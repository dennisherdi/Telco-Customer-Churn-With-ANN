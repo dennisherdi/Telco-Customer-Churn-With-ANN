{
 "cells": [
  {
   "cell_type": "markdown",
   "metadata": {
    "id": "hwyAPYTKebPd"
   },
   "source": [
    "# **Phase 1 Milestone 2** \n",
    "*Milestones ini dibuat guna mengevaluasi pembelajaran pada Hacktiv8 Data Science Full Time Program Phase 2 khususnya pada Artificial Neural Network.*\n"
   ]
  },
  {
   "cell_type": "markdown",
   "metadata": {},
   "source": [
    "### **i. PERKENALAN**"
   ]
  },
  {
   "cell_type": "markdown",
   "metadata": {},
   "source": [
    "##### **Nama :Dennis Herdiawan**\n",
    "##### **Batch : 004**\n",
    "\n",
    "---\n",
    "\n",
    "## **Objectives**\n",
    "Milestones 1 ini dibuat guna mengevaluasi Pembelajaran Phase 2 :\n",
    "\n",
    "- Mampu memahami konsep Artificial Neural Network.\n",
    "- Mampu mempersiapkan data untuk digunakan dalam model Artificial Neural Network.\n",
    "- Mampu mengimplementasikan Artificial Neural Network dengan data yang diberikan.\n",
    "- Mampu menganalisis dan menjelaskan layer yang dibuat.\n",
    "\n"
   ]
  },
  {
   "cell_type": "markdown",
   "metadata": {},
   "source": [
    "### **ii. Import pustaka yang dibutuhkan**"
   ]
  },
  {
   "cell_type": "code",
   "execution_count": 1,
   "metadata": {},
   "outputs": [],
   "source": [
    "import pandas as pd\n",
    "import numpy as np\n",
    "import tensorflow as tf\n",
    "from tensorflow import keras\n",
    "import matplotlib.pyplot as plt\n",
    "import seaborn as sns\n",
    "\n",
    "\n",
    "from sklearn.preprocessing import LabelEncoder, MinMaxScaler\n",
    "from imblearn.over_sampling import SMOTE\n",
    "from keras.models import Sequential\n",
    "from keras.layers import Dense, Dropout\n",
    "from tensorflow.keras import initializers, optimizers\n",
    "from sklearn.model_selection import GridSearchCV\n",
    "from sklearn.pipeline import Pipeline\n",
    "\n",
    "from sklearn.metrics import recall_score, classification_report, accuracy_score, roc_auc_score, confusion_matrix\n",
    "\n",
    "\n",
    "import warnings\n",
    "warnings.filterwarnings(\"ignore\")"
   ]
  },
  {
   "cell_type": "markdown",
   "metadata": {
    "id": "oaNxJ-qrhK1w"
   },
   "source": [
    "### **iii. Data Loading**"
   ]
  },
  {
   "cell_type": "code",
   "execution_count": 2,
   "metadata": {},
   "outputs": [],
   "source": [
    "df = pd.read_csv('WA_Fn-UseC_-Telco-Customer-Churn.csv')"
   ]
  },
  {
   "cell_type": "markdown",
   "metadata": {},
   "source": [
    "### iv Data Cleaning"
   ]
  },
  {
   "cell_type": "code",
   "execution_count": 3,
   "metadata": {},
   "outputs": [
    {
     "data": {
      "text/plain": [
       "False"
      ]
     },
     "execution_count": 3,
     "metadata": {},
     "output_type": "execute_result"
    }
   ],
   "source": [
    "df.isnull().sum().any()"
   ]
  },
  {
   "cell_type": "code",
   "execution_count": 4,
   "metadata": {},
   "outputs": [
    {
     "name": "stdout",
     "output_type": "stream",
     "text": [
      "Is there any duplicated rows? \n",
      "False\n",
      "\n",
      "How many? \n",
      "0 rows\n"
     ]
    }
   ],
   "source": [
    "print(f\"Is there any duplicated rows? \\n{df.duplicated().any()}\")\n",
    "print(f\"\\nHow many? \\n{df.duplicated().sum()} rows\")"
   ]
  },
  {
   "cell_type": "code",
   "execution_count": 5,
   "metadata": {},
   "outputs": [],
   "source": [
    "df.drop(columns=['customerID'], inplace=True)"
   ]
  },
  {
   "cell_type": "markdown",
   "metadata": {},
   "source": [
    "### v. Explorasi Data"
   ]
  },
  {
   "cell_type": "code",
   "execution_count": 6,
   "metadata": {},
   "outputs": [
    {
     "data": {
      "text/html": [
       "<div>\n",
       "<style scoped>\n",
       "    .dataframe tbody tr th:only-of-type {\n",
       "        vertical-align: middle;\n",
       "    }\n",
       "\n",
       "    .dataframe tbody tr th {\n",
       "        vertical-align: top;\n",
       "    }\n",
       "\n",
       "    .dataframe thead th {\n",
       "        text-align: right;\n",
       "    }\n",
       "</style>\n",
       "<table border=\"1\" class=\"dataframe\">\n",
       "  <thead>\n",
       "    <tr style=\"text-align: right;\">\n",
       "      <th></th>\n",
       "      <th>gender</th>\n",
       "      <th>SeniorCitizen</th>\n",
       "      <th>Partner</th>\n",
       "      <th>Dependents</th>\n",
       "      <th>tenure</th>\n",
       "      <th>PhoneService</th>\n",
       "      <th>MultipleLines</th>\n",
       "      <th>InternetService</th>\n",
       "      <th>OnlineSecurity</th>\n",
       "      <th>OnlineBackup</th>\n",
       "      <th>DeviceProtection</th>\n",
       "      <th>TechSupport</th>\n",
       "      <th>StreamingTV</th>\n",
       "      <th>StreamingMovies</th>\n",
       "      <th>Contract</th>\n",
       "      <th>PaperlessBilling</th>\n",
       "      <th>PaymentMethod</th>\n",
       "      <th>MonthlyCharges</th>\n",
       "      <th>TotalCharges</th>\n",
       "      <th>Churn</th>\n",
       "    </tr>\n",
       "  </thead>\n",
       "  <tbody>\n",
       "    <tr>\n",
       "      <th>0</th>\n",
       "      <td>Female</td>\n",
       "      <td>0</td>\n",
       "      <td>Yes</td>\n",
       "      <td>No</td>\n",
       "      <td>1</td>\n",
       "      <td>No</td>\n",
       "      <td>No phone service</td>\n",
       "      <td>DSL</td>\n",
       "      <td>No</td>\n",
       "      <td>Yes</td>\n",
       "      <td>No</td>\n",
       "      <td>No</td>\n",
       "      <td>No</td>\n",
       "      <td>No</td>\n",
       "      <td>Month-to-month</td>\n",
       "      <td>Yes</td>\n",
       "      <td>Electronic check</td>\n",
       "      <td>29.85</td>\n",
       "      <td>29.85</td>\n",
       "      <td>No</td>\n",
       "    </tr>\n",
       "    <tr>\n",
       "      <th>1</th>\n",
       "      <td>Male</td>\n",
       "      <td>0</td>\n",
       "      <td>No</td>\n",
       "      <td>No</td>\n",
       "      <td>34</td>\n",
       "      <td>Yes</td>\n",
       "      <td>No</td>\n",
       "      <td>DSL</td>\n",
       "      <td>Yes</td>\n",
       "      <td>No</td>\n",
       "      <td>Yes</td>\n",
       "      <td>No</td>\n",
       "      <td>No</td>\n",
       "      <td>No</td>\n",
       "      <td>One year</td>\n",
       "      <td>No</td>\n",
       "      <td>Mailed check</td>\n",
       "      <td>56.95</td>\n",
       "      <td>1889.5</td>\n",
       "      <td>No</td>\n",
       "    </tr>\n",
       "    <tr>\n",
       "      <th>2</th>\n",
       "      <td>Male</td>\n",
       "      <td>0</td>\n",
       "      <td>No</td>\n",
       "      <td>No</td>\n",
       "      <td>2</td>\n",
       "      <td>Yes</td>\n",
       "      <td>No</td>\n",
       "      <td>DSL</td>\n",
       "      <td>Yes</td>\n",
       "      <td>Yes</td>\n",
       "      <td>No</td>\n",
       "      <td>No</td>\n",
       "      <td>No</td>\n",
       "      <td>No</td>\n",
       "      <td>Month-to-month</td>\n",
       "      <td>Yes</td>\n",
       "      <td>Mailed check</td>\n",
       "      <td>53.85</td>\n",
       "      <td>108.15</td>\n",
       "      <td>Yes</td>\n",
       "    </tr>\n",
       "    <tr>\n",
       "      <th>3</th>\n",
       "      <td>Male</td>\n",
       "      <td>0</td>\n",
       "      <td>No</td>\n",
       "      <td>No</td>\n",
       "      <td>45</td>\n",
       "      <td>No</td>\n",
       "      <td>No phone service</td>\n",
       "      <td>DSL</td>\n",
       "      <td>Yes</td>\n",
       "      <td>No</td>\n",
       "      <td>Yes</td>\n",
       "      <td>Yes</td>\n",
       "      <td>No</td>\n",
       "      <td>No</td>\n",
       "      <td>One year</td>\n",
       "      <td>No</td>\n",
       "      <td>Bank transfer (automatic)</td>\n",
       "      <td>42.30</td>\n",
       "      <td>1840.75</td>\n",
       "      <td>No</td>\n",
       "    </tr>\n",
       "    <tr>\n",
       "      <th>4</th>\n",
       "      <td>Female</td>\n",
       "      <td>0</td>\n",
       "      <td>No</td>\n",
       "      <td>No</td>\n",
       "      <td>2</td>\n",
       "      <td>Yes</td>\n",
       "      <td>No</td>\n",
       "      <td>Fiber optic</td>\n",
       "      <td>No</td>\n",
       "      <td>No</td>\n",
       "      <td>No</td>\n",
       "      <td>No</td>\n",
       "      <td>No</td>\n",
       "      <td>No</td>\n",
       "      <td>Month-to-month</td>\n",
       "      <td>Yes</td>\n",
       "      <td>Electronic check</td>\n",
       "      <td>70.70</td>\n",
       "      <td>151.65</td>\n",
       "      <td>Yes</td>\n",
       "    </tr>\n",
       "  </tbody>\n",
       "</table>\n",
       "</div>"
      ],
      "text/plain": [
       "   gender  SeniorCitizen Partner Dependents  tenure PhoneService  \\\n",
       "0  Female              0     Yes         No       1           No   \n",
       "1    Male              0      No         No      34          Yes   \n",
       "2    Male              0      No         No       2          Yes   \n",
       "3    Male              0      No         No      45           No   \n",
       "4  Female              0      No         No       2          Yes   \n",
       "\n",
       "      MultipleLines InternetService OnlineSecurity OnlineBackup  \\\n",
       "0  No phone service             DSL             No          Yes   \n",
       "1                No             DSL            Yes           No   \n",
       "2                No             DSL            Yes          Yes   \n",
       "3  No phone service             DSL            Yes           No   \n",
       "4                No     Fiber optic             No           No   \n",
       "\n",
       "  DeviceProtection TechSupport StreamingTV StreamingMovies        Contract  \\\n",
       "0               No          No          No              No  Month-to-month   \n",
       "1              Yes          No          No              No        One year   \n",
       "2               No          No          No              No  Month-to-month   \n",
       "3              Yes         Yes          No              No        One year   \n",
       "4               No          No          No              No  Month-to-month   \n",
       "\n",
       "  PaperlessBilling              PaymentMethod  MonthlyCharges TotalCharges  \\\n",
       "0              Yes           Electronic check           29.85        29.85   \n",
       "1               No               Mailed check           56.95       1889.5   \n",
       "2              Yes               Mailed check           53.85       108.15   \n",
       "3               No  Bank transfer (automatic)           42.30      1840.75   \n",
       "4              Yes           Electronic check           70.70       151.65   \n",
       "\n",
       "  Churn  \n",
       "0    No  \n",
       "1    No  \n",
       "2   Yes  \n",
       "3    No  \n",
       "4   Yes  "
      ]
     },
     "execution_count": 6,
     "metadata": {},
     "output_type": "execute_result"
    }
   ],
   "source": [
    "df.head()"
   ]
  },
  {
   "cell_type": "code",
   "execution_count": 7,
   "metadata": {},
   "outputs": [
    {
     "data": {
      "text/plain": [
       "(7043, 20)"
      ]
     },
     "execution_count": 7,
     "metadata": {},
     "output_type": "execute_result"
    }
   ],
   "source": [
    "df.shape"
   ]
  },
  {
   "cell_type": "code",
   "execution_count": 8,
   "metadata": {},
   "outputs": [
    {
     "name": "stdout",
     "output_type": "stream",
     "text": [
      "<class 'pandas.core.frame.DataFrame'>\n",
      "RangeIndex: 7043 entries, 0 to 7042\n",
      "Data columns (total 20 columns):\n",
      " #   Column            Non-Null Count  Dtype  \n",
      "---  ------            --------------  -----  \n",
      " 0   gender            7043 non-null   object \n",
      " 1   SeniorCitizen     7043 non-null   int64  \n",
      " 2   Partner           7043 non-null   object \n",
      " 3   Dependents        7043 non-null   object \n",
      " 4   tenure            7043 non-null   int64  \n",
      " 5   PhoneService      7043 non-null   object \n",
      " 6   MultipleLines     7043 non-null   object \n",
      " 7   InternetService   7043 non-null   object \n",
      " 8   OnlineSecurity    7043 non-null   object \n",
      " 9   OnlineBackup      7043 non-null   object \n",
      " 10  DeviceProtection  7043 non-null   object \n",
      " 11  TechSupport       7043 non-null   object \n",
      " 12  StreamingTV       7043 non-null   object \n",
      " 13  StreamingMovies   7043 non-null   object \n",
      " 14  Contract          7043 non-null   object \n",
      " 15  PaperlessBilling  7043 non-null   object \n",
      " 16  PaymentMethod     7043 non-null   object \n",
      " 17  MonthlyCharges    7043 non-null   float64\n",
      " 18  TotalCharges      7043 non-null   object \n",
      " 19  Churn             7043 non-null   object \n",
      "dtypes: float64(1), int64(2), object(17)\n",
      "memory usage: 1.1+ MB\n"
     ]
    }
   ],
   "source": [
    "df.info()"
   ]
  },
  {
   "cell_type": "code",
   "execution_count": 9,
   "metadata": {},
   "outputs": [
    {
     "name": "stdout",
     "output_type": "stream",
     "text": [
      "          11\n",
      "20.2      11\n",
      "19.75      9\n",
      "20.05      8\n",
      "19.9       8\n",
      "          ..\n",
      "6849.4     1\n",
      "692.35     1\n",
      "130.15     1\n",
      "3211.9     1\n",
      "6844.5     1\n",
      "Name: TotalCharges, Length: 6531, dtype: int64 <class 'pandas.core.series.Series'>\n"
     ]
    }
   ],
   "source": [
    "print(df['TotalCharges'].value_counts(), type(df['TotalCharges']))"
   ]
  },
  {
   "cell_type": "code",
   "execution_count": 10,
   "metadata": {},
   "outputs": [],
   "source": [
    "df['TotalCharges'] = df[\"TotalCharges\"].replace(\" \",np.nan)"
   ]
  },
  {
   "cell_type": "code",
   "execution_count": 11,
   "metadata": {},
   "outputs": [],
   "source": [
    "df.dropna(inplace=True)"
   ]
  },
  {
   "cell_type": "code",
   "execution_count": 12,
   "metadata": {},
   "outputs": [],
   "source": [
    "df[\"TotalCharges\"] = df[\"TotalCharges\"].astype(float)"
   ]
  },
  {
   "cell_type": "code",
   "execution_count": 13,
   "metadata": {},
   "outputs": [],
   "source": [
    "repl = {0: 'No', 1: 'Yes'}\n",
    "\n",
    "df['SeniorCitizen'].replace(repl, inplace=True)"
   ]
  },
  {
   "cell_type": "code",
   "execution_count": 14,
   "metadata": {},
   "outputs": [
    {
     "data": {
      "text/html": [
       "<div>\n",
       "<style scoped>\n",
       "    .dataframe tbody tr th:only-of-type {\n",
       "        vertical-align: middle;\n",
       "    }\n",
       "\n",
       "    .dataframe tbody tr th {\n",
       "        vertical-align: top;\n",
       "    }\n",
       "\n",
       "    .dataframe thead th {\n",
       "        text-align: right;\n",
       "    }\n",
       "</style>\n",
       "<table border=\"1\" class=\"dataframe\">\n",
       "  <thead>\n",
       "    <tr style=\"text-align: right;\">\n",
       "      <th></th>\n",
       "      <th>dataFeatures</th>\n",
       "      <th>dataType</th>\n",
       "      <th>null</th>\n",
       "      <th>%null</th>\n",
       "      <th>unique</th>\n",
       "      <th>uniqueSample</th>\n",
       "    </tr>\n",
       "  </thead>\n",
       "  <tbody>\n",
       "    <tr>\n",
       "      <th>0</th>\n",
       "      <td>gender</td>\n",
       "      <td>object</td>\n",
       "      <td>0</td>\n",
       "      <td>0.0</td>\n",
       "      <td>2</td>\n",
       "      <td>[Male, Female]</td>\n",
       "    </tr>\n",
       "    <tr>\n",
       "      <th>1</th>\n",
       "      <td>SeniorCitizen</td>\n",
       "      <td>object</td>\n",
       "      <td>0</td>\n",
       "      <td>0.0</td>\n",
       "      <td>2</td>\n",
       "      <td>[Yes, No]</td>\n",
       "    </tr>\n",
       "    <tr>\n",
       "      <th>2</th>\n",
       "      <td>Partner</td>\n",
       "      <td>object</td>\n",
       "      <td>0</td>\n",
       "      <td>0.0</td>\n",
       "      <td>2</td>\n",
       "      <td>[Yes, No]</td>\n",
       "    </tr>\n",
       "    <tr>\n",
       "      <th>3</th>\n",
       "      <td>Dependents</td>\n",
       "      <td>object</td>\n",
       "      <td>0</td>\n",
       "      <td>0.0</td>\n",
       "      <td>2</td>\n",
       "      <td>[No, Yes]</td>\n",
       "    </tr>\n",
       "    <tr>\n",
       "      <th>4</th>\n",
       "      <td>tenure</td>\n",
       "      <td>int64</td>\n",
       "      <td>0</td>\n",
       "      <td>0.0</td>\n",
       "      <td>72</td>\n",
       "      <td>[37, 17]</td>\n",
       "    </tr>\n",
       "    <tr>\n",
       "      <th>5</th>\n",
       "      <td>PhoneService</td>\n",
       "      <td>object</td>\n",
       "      <td>0</td>\n",
       "      <td>0.0</td>\n",
       "      <td>2</td>\n",
       "      <td>[No, Yes]</td>\n",
       "    </tr>\n",
       "    <tr>\n",
       "      <th>6</th>\n",
       "      <td>MultipleLines</td>\n",
       "      <td>object</td>\n",
       "      <td>0</td>\n",
       "      <td>0.0</td>\n",
       "      <td>3</td>\n",
       "      <td>[No phone service, Yes]</td>\n",
       "    </tr>\n",
       "    <tr>\n",
       "      <th>7</th>\n",
       "      <td>InternetService</td>\n",
       "      <td>object</td>\n",
       "      <td>0</td>\n",
       "      <td>0.0</td>\n",
       "      <td>3</td>\n",
       "      <td>[Fiber optic, No]</td>\n",
       "    </tr>\n",
       "    <tr>\n",
       "      <th>8</th>\n",
       "      <td>OnlineSecurity</td>\n",
       "      <td>object</td>\n",
       "      <td>0</td>\n",
       "      <td>0.0</td>\n",
       "      <td>3</td>\n",
       "      <td>[No internet service, Yes]</td>\n",
       "    </tr>\n",
       "    <tr>\n",
       "      <th>9</th>\n",
       "      <td>OnlineBackup</td>\n",
       "      <td>object</td>\n",
       "      <td>0</td>\n",
       "      <td>0.0</td>\n",
       "      <td>3</td>\n",
       "      <td>[Yes, No internet service]</td>\n",
       "    </tr>\n",
       "    <tr>\n",
       "      <th>10</th>\n",
       "      <td>DeviceProtection</td>\n",
       "      <td>object</td>\n",
       "      <td>0</td>\n",
       "      <td>0.0</td>\n",
       "      <td>3</td>\n",
       "      <td>[No, No internet service]</td>\n",
       "    </tr>\n",
       "    <tr>\n",
       "      <th>11</th>\n",
       "      <td>TechSupport</td>\n",
       "      <td>object</td>\n",
       "      <td>0</td>\n",
       "      <td>0.0</td>\n",
       "      <td>3</td>\n",
       "      <td>[No internet service, Yes]</td>\n",
       "    </tr>\n",
       "    <tr>\n",
       "      <th>12</th>\n",
       "      <td>StreamingTV</td>\n",
       "      <td>object</td>\n",
       "      <td>0</td>\n",
       "      <td>0.0</td>\n",
       "      <td>3</td>\n",
       "      <td>[No, No internet service]</td>\n",
       "    </tr>\n",
       "    <tr>\n",
       "      <th>13</th>\n",
       "      <td>StreamingMovies</td>\n",
       "      <td>object</td>\n",
       "      <td>0</td>\n",
       "      <td>0.0</td>\n",
       "      <td>3</td>\n",
       "      <td>[Yes, No]</td>\n",
       "    </tr>\n",
       "    <tr>\n",
       "      <th>14</th>\n",
       "      <td>Contract</td>\n",
       "      <td>object</td>\n",
       "      <td>0</td>\n",
       "      <td>0.0</td>\n",
       "      <td>3</td>\n",
       "      <td>[One year, Month-to-month]</td>\n",
       "    </tr>\n",
       "    <tr>\n",
       "      <th>15</th>\n",
       "      <td>PaperlessBilling</td>\n",
       "      <td>object</td>\n",
       "      <td>0</td>\n",
       "      <td>0.0</td>\n",
       "      <td>2</td>\n",
       "      <td>[No, Yes]</td>\n",
       "    </tr>\n",
       "    <tr>\n",
       "      <th>16</th>\n",
       "      <td>PaymentMethod</td>\n",
       "      <td>object</td>\n",
       "      <td>0</td>\n",
       "      <td>0.0</td>\n",
       "      <td>4</td>\n",
       "      <td>[Electronic check, Mailed check]</td>\n",
       "    </tr>\n",
       "    <tr>\n",
       "      <th>17</th>\n",
       "      <td>MonthlyCharges</td>\n",
       "      <td>float64</td>\n",
       "      <td>0</td>\n",
       "      <td>0.0</td>\n",
       "      <td>1584</td>\n",
       "      <td>[74.75, 59.85]</td>\n",
       "    </tr>\n",
       "    <tr>\n",
       "      <th>18</th>\n",
       "      <td>TotalCharges</td>\n",
       "      <td>float64</td>\n",
       "      <td>0</td>\n",
       "      <td>0.0</td>\n",
       "      <td>6530</td>\n",
       "      <td>[215.8, 2301.15]</td>\n",
       "    </tr>\n",
       "    <tr>\n",
       "      <th>19</th>\n",
       "      <td>Churn</td>\n",
       "      <td>object</td>\n",
       "      <td>0</td>\n",
       "      <td>0.0</td>\n",
       "      <td>2</td>\n",
       "      <td>[No, Yes]</td>\n",
       "    </tr>\n",
       "  </tbody>\n",
       "</table>\n",
       "</div>"
      ],
      "text/plain": [
       "        dataFeatures dataType  null  %null  unique  \\\n",
       "0             gender   object     0    0.0       2   \n",
       "1      SeniorCitizen   object     0    0.0       2   \n",
       "2            Partner   object     0    0.0       2   \n",
       "3         Dependents   object     0    0.0       2   \n",
       "4             tenure    int64     0    0.0      72   \n",
       "5       PhoneService   object     0    0.0       2   \n",
       "6      MultipleLines   object     0    0.0       3   \n",
       "7    InternetService   object     0    0.0       3   \n",
       "8     OnlineSecurity   object     0    0.0       3   \n",
       "9       OnlineBackup   object     0    0.0       3   \n",
       "10  DeviceProtection   object     0    0.0       3   \n",
       "11       TechSupport   object     0    0.0       3   \n",
       "12       StreamingTV   object     0    0.0       3   \n",
       "13   StreamingMovies   object     0    0.0       3   \n",
       "14          Contract   object     0    0.0       3   \n",
       "15  PaperlessBilling   object     0    0.0       2   \n",
       "16     PaymentMethod   object     0    0.0       4   \n",
       "17    MonthlyCharges  float64     0    0.0    1584   \n",
       "18      TotalCharges  float64     0    0.0    6530   \n",
       "19             Churn   object     0    0.0       2   \n",
       "\n",
       "                        uniqueSample  \n",
       "0                     [Male, Female]  \n",
       "1                          [Yes, No]  \n",
       "2                          [Yes, No]  \n",
       "3                          [No, Yes]  \n",
       "4                           [37, 17]  \n",
       "5                          [No, Yes]  \n",
       "6            [No phone service, Yes]  \n",
       "7                  [Fiber optic, No]  \n",
       "8         [No internet service, Yes]  \n",
       "9         [Yes, No internet service]  \n",
       "10         [No, No internet service]  \n",
       "11        [No internet service, Yes]  \n",
       "12         [No, No internet service]  \n",
       "13                         [Yes, No]  \n",
       "14        [One year, Month-to-month]  \n",
       "15                         [No, Yes]  \n",
       "16  [Electronic check, Mailed check]  \n",
       "17                    [74.75, 59.85]  \n",
       "18                  [215.8, 2301.15]  \n",
       "19                         [No, Yes]  "
      ]
     },
     "execution_count": 14,
     "metadata": {},
     "output_type": "execute_result"
    }
   ],
   "source": [
    "dfDesc = []\n",
    "\n",
    "for i in df.columns:\n",
    "    dfDesc.append([\n",
    "        i,\n",
    "        df[i].dtypes,\n",
    "        df[i].isna().sum(),\n",
    "        round((((df[i].isna().sum()) / (len(df))) * 100),2),\n",
    "        df[i].nunique(),\n",
    "        df[i].drop_duplicates().sample(2).values\n",
    "    ])\n",
    "    \n",
    "pd.DataFrame(dfDesc, columns=['dataFeatures', 'dataType', 'null', '%null', 'unique', 'uniqueSample'])"
   ]
  },
  {
   "cell_type": "code",
   "execution_count": 15,
   "metadata": {},
   "outputs": [
    {
     "data": {
      "text/html": [
       "<div>\n",
       "<style scoped>\n",
       "    .dataframe tbody tr th:only-of-type {\n",
       "        vertical-align: middle;\n",
       "    }\n",
       "\n",
       "    .dataframe tbody tr th {\n",
       "        vertical-align: top;\n",
       "    }\n",
       "\n",
       "    .dataframe thead th {\n",
       "        text-align: right;\n",
       "    }\n",
       "</style>\n",
       "<table border=\"1\" class=\"dataframe\">\n",
       "  <thead>\n",
       "    <tr style=\"text-align: right;\">\n",
       "      <th></th>\n",
       "      <th>tenure</th>\n",
       "      <th>MonthlyCharges</th>\n",
       "      <th>TotalCharges</th>\n",
       "    </tr>\n",
       "  </thead>\n",
       "  <tbody>\n",
       "    <tr>\n",
       "      <th>count</th>\n",
       "      <td>7032.000000</td>\n",
       "      <td>7032.000000</td>\n",
       "      <td>7032.000000</td>\n",
       "    </tr>\n",
       "    <tr>\n",
       "      <th>mean</th>\n",
       "      <td>32.421786</td>\n",
       "      <td>64.798208</td>\n",
       "      <td>2283.300441</td>\n",
       "    </tr>\n",
       "    <tr>\n",
       "      <th>std</th>\n",
       "      <td>24.545260</td>\n",
       "      <td>30.085974</td>\n",
       "      <td>2266.771362</td>\n",
       "    </tr>\n",
       "    <tr>\n",
       "      <th>min</th>\n",
       "      <td>1.000000</td>\n",
       "      <td>18.250000</td>\n",
       "      <td>18.800000</td>\n",
       "    </tr>\n",
       "    <tr>\n",
       "      <th>25%</th>\n",
       "      <td>9.000000</td>\n",
       "      <td>35.587500</td>\n",
       "      <td>401.450000</td>\n",
       "    </tr>\n",
       "    <tr>\n",
       "      <th>50%</th>\n",
       "      <td>29.000000</td>\n",
       "      <td>70.350000</td>\n",
       "      <td>1397.475000</td>\n",
       "    </tr>\n",
       "    <tr>\n",
       "      <th>75%</th>\n",
       "      <td>55.000000</td>\n",
       "      <td>89.862500</td>\n",
       "      <td>3794.737500</td>\n",
       "    </tr>\n",
       "    <tr>\n",
       "      <th>max</th>\n",
       "      <td>72.000000</td>\n",
       "      <td>118.750000</td>\n",
       "      <td>8684.800000</td>\n",
       "    </tr>\n",
       "  </tbody>\n",
       "</table>\n",
       "</div>"
      ],
      "text/plain": [
       "            tenure  MonthlyCharges  TotalCharges\n",
       "count  7032.000000     7032.000000   7032.000000\n",
       "mean     32.421786       64.798208   2283.300441\n",
       "std      24.545260       30.085974   2266.771362\n",
       "min       1.000000       18.250000     18.800000\n",
       "25%       9.000000       35.587500    401.450000\n",
       "50%      29.000000       70.350000   1397.475000\n",
       "75%      55.000000       89.862500   3794.737500\n",
       "max      72.000000      118.750000   8684.800000"
      ]
     },
     "execution_count": 15,
     "metadata": {},
     "output_type": "execute_result"
    }
   ],
   "source": [
    "df.describe()"
   ]
  },
  {
   "cell_type": "code",
   "execution_count": 16,
   "metadata": {},
   "outputs": [
    {
     "data": {
      "text/html": [
       "<div>\n",
       "<style scoped>\n",
       "    .dataframe tbody tr th:only-of-type {\n",
       "        vertical-align: middle;\n",
       "    }\n",
       "\n",
       "    .dataframe tbody tr th {\n",
       "        vertical-align: top;\n",
       "    }\n",
       "\n",
       "    .dataframe thead th {\n",
       "        text-align: right;\n",
       "    }\n",
       "</style>\n",
       "<table border=\"1\" class=\"dataframe\">\n",
       "  <thead>\n",
       "    <tr style=\"text-align: right;\">\n",
       "      <th></th>\n",
       "      <th>gender</th>\n",
       "      <th>SeniorCitizen</th>\n",
       "      <th>Partner</th>\n",
       "      <th>Dependents</th>\n",
       "      <th>PhoneService</th>\n",
       "      <th>MultipleLines</th>\n",
       "      <th>InternetService</th>\n",
       "      <th>OnlineSecurity</th>\n",
       "      <th>OnlineBackup</th>\n",
       "      <th>DeviceProtection</th>\n",
       "      <th>TechSupport</th>\n",
       "      <th>StreamingTV</th>\n",
       "      <th>StreamingMovies</th>\n",
       "      <th>Contract</th>\n",
       "      <th>PaperlessBilling</th>\n",
       "      <th>PaymentMethod</th>\n",
       "      <th>Churn</th>\n",
       "    </tr>\n",
       "  </thead>\n",
       "  <tbody>\n",
       "    <tr>\n",
       "      <th>count</th>\n",
       "      <td>7032</td>\n",
       "      <td>7032</td>\n",
       "      <td>7032</td>\n",
       "      <td>7032</td>\n",
       "      <td>7032</td>\n",
       "      <td>7032</td>\n",
       "      <td>7032</td>\n",
       "      <td>7032</td>\n",
       "      <td>7032</td>\n",
       "      <td>7032</td>\n",
       "      <td>7032</td>\n",
       "      <td>7032</td>\n",
       "      <td>7032</td>\n",
       "      <td>7032</td>\n",
       "      <td>7032</td>\n",
       "      <td>7032</td>\n",
       "      <td>7032</td>\n",
       "    </tr>\n",
       "    <tr>\n",
       "      <th>unique</th>\n",
       "      <td>2</td>\n",
       "      <td>2</td>\n",
       "      <td>2</td>\n",
       "      <td>2</td>\n",
       "      <td>2</td>\n",
       "      <td>3</td>\n",
       "      <td>3</td>\n",
       "      <td>3</td>\n",
       "      <td>3</td>\n",
       "      <td>3</td>\n",
       "      <td>3</td>\n",
       "      <td>3</td>\n",
       "      <td>3</td>\n",
       "      <td>3</td>\n",
       "      <td>2</td>\n",
       "      <td>4</td>\n",
       "      <td>2</td>\n",
       "    </tr>\n",
       "    <tr>\n",
       "      <th>top</th>\n",
       "      <td>Male</td>\n",
       "      <td>No</td>\n",
       "      <td>No</td>\n",
       "      <td>No</td>\n",
       "      <td>Yes</td>\n",
       "      <td>No</td>\n",
       "      <td>Fiber optic</td>\n",
       "      <td>No</td>\n",
       "      <td>No</td>\n",
       "      <td>No</td>\n",
       "      <td>No</td>\n",
       "      <td>No</td>\n",
       "      <td>No</td>\n",
       "      <td>Month-to-month</td>\n",
       "      <td>Yes</td>\n",
       "      <td>Electronic check</td>\n",
       "      <td>No</td>\n",
       "    </tr>\n",
       "    <tr>\n",
       "      <th>freq</th>\n",
       "      <td>3549</td>\n",
       "      <td>5890</td>\n",
       "      <td>3639</td>\n",
       "      <td>4933</td>\n",
       "      <td>6352</td>\n",
       "      <td>3385</td>\n",
       "      <td>3096</td>\n",
       "      <td>3497</td>\n",
       "      <td>3087</td>\n",
       "      <td>3094</td>\n",
       "      <td>3472</td>\n",
       "      <td>2809</td>\n",
       "      <td>2781</td>\n",
       "      <td>3875</td>\n",
       "      <td>4168</td>\n",
       "      <td>2365</td>\n",
       "      <td>5163</td>\n",
       "    </tr>\n",
       "  </tbody>\n",
       "</table>\n",
       "</div>"
      ],
      "text/plain": [
       "       gender SeniorCitizen Partner Dependents PhoneService MultipleLines  \\\n",
       "count    7032          7032    7032       7032         7032          7032   \n",
       "unique      2             2       2          2            2             3   \n",
       "top      Male            No      No         No          Yes            No   \n",
       "freq     3549          5890    3639       4933         6352          3385   \n",
       "\n",
       "       InternetService OnlineSecurity OnlineBackup DeviceProtection  \\\n",
       "count             7032           7032         7032             7032   \n",
       "unique               3              3            3                3   \n",
       "top        Fiber optic             No           No               No   \n",
       "freq              3096           3497         3087             3094   \n",
       "\n",
       "       TechSupport StreamingTV StreamingMovies        Contract  \\\n",
       "count         7032        7032            7032            7032   \n",
       "unique           3           3               3               3   \n",
       "top             No          No              No  Month-to-month   \n",
       "freq          3472        2809            2781            3875   \n",
       "\n",
       "       PaperlessBilling     PaymentMethod Churn  \n",
       "count              7032              7032  7032  \n",
       "unique                2                 4     2  \n",
       "top                 Yes  Electronic check    No  \n",
       "freq               4168              2365  5163  "
      ]
     },
     "execution_count": 16,
     "metadata": {},
     "output_type": "execute_result"
    }
   ],
   "source": [
    "df.describe(include='O')"
   ]
  },
  {
   "cell_type": "markdown",
   "metadata": {},
   "source": [
    "### EDA"
   ]
  },
  {
   "cell_type": "code",
   "execution_count": 17,
   "metadata": {},
   "outputs": [
    {
     "data": {
      "image/png": "[encoded data removed]",
      "text/plain": [
       "<Figure size 720x576 with 2 Axes>"
      ]
     },
     "metadata": {
      "needs_background": "light"
     },
     "output_type": "display_data"
    }
   ],
   "source": [
    "plt.figure(figsize=(10,8))\n",
    "plt.title('Korelasi Variabel', size = 20)\n",
    "sns.heatmap(df.corr(), cmap='coolwarm', annot = True)\n",
    "plt.show()"
   ]
  },
  {
   "cell_type": "markdown",
   "metadata": {},
   "source": [
    "Korelasi yang tinggi pada kategori 'tenure'"
   ]
  },
  {
   "cell_type": "markdown",
   "metadata": {},
   "source": [
    "### <span> **1. Target Variable** </span>"
   ]
  },
  {
   "cell_type": "code",
   "execution_count": 18,
   "metadata": {
    "scrolled": false
   },
   "outputs": [
    {
     "data": {
      "image/png": "[encoded data removed]",
      "text/plain": [
       "<Figure size 720x360 with 1 Axes>"
      ]
     },
     "metadata": {
      "needs_background": "light"
     },
     "output_type": "display_data"
    }
   ],
   "source": [
    "plt.figure(figsize = (10, 5))\n",
    "ax = sns.countplot(\n",
    "    x = df[\"Churn\"]\n",
    ")\n",
    "ax.set_title(\"Distribution of Target\")\n",
    "# annotate bar\n",
    "for p in ax.patches:\n",
    "    ax.annotate(\n",
    "        format(p.get_height(), '.0f') + \" (\" + format(p.get_height()*100/len(df), '.1f') + \"%)\",\n",
    "        (p.get_x() + p.get_width() / 2., p.get_height()), \n",
    "        ha = 'center',\n",
    "        fontweight = 'semibold',\n",
    "        size = 16,\n",
    "        xytext = (0, -25), \n",
    "        textcoords = 'offset points',\n",
    "        color = 'white'\n",
    "    )\n",
    "plt.tight_layout()\n",
    "plt.show()"
   ]
  },
  {
   "cell_type": "markdown",
   "metadata": {},
   "source": [
    "Kami mencoba memprediksi jika klien meninggalkan perusahaan pada bulan sebelumnya. Oleh karena itu kami memiliki masalah klasifikasi biner dengan target yang sedikit tidak seimbang:\n",
    "\n",
    "* Churn: Tidak - 72,4%\n",
    "* Churn: Ya - 27,6%"
   ]
  },
  {
   "cell_type": "markdown",
   "metadata": {},
   "source": [
    "### <span> **1. Categorical Feature** </span>"
   ]
  },
  {
   "cell_type": "markdown",
   "metadata": {},
   "source": [
    "Dataset ini memiliki 16 fitur kategoris:\n",
    "\n",
    "* Enam fitur biner (Ya/Tidak)\n",
    "* Sembilan fitur dengan masing-masing tiga nilai unik (kategori)\n",
    "* Satu fitur dengan empat nilai unik"
   ]
  },
  {
   "cell_type": "markdown",
   "metadata": {},
   "source": [
    "### <span>1.1 Gender and Age(SeniorCitizen)</span>"
   ]
  },
  {
   "cell_type": "code",
   "execution_count": 19,
   "metadata": {},
   "outputs": [
    {
     "data": {
      "image/png": "[encoded data removed]",
      "text/plain": [
       "<Figure size 432x288 with 1 Axes>"
      ]
     },
     "metadata": {
      "needs_background": "light"
     },
     "output_type": "display_data"
    }
   ],
   "source": [
    "def barplot_percentages(feature, orient='v', axis_name=\"percentage of customers\"):\n",
    "    ratios = pd.DataFrame()\n",
    "    g = df.groupby(feature)[\"Churn\"].value_counts().to_frame()\n",
    "    g = g.rename({\"Churn\": axis_name}, axis=1).reset_index()\n",
    "    g[axis_name] = g[axis_name]/len(df)\n",
    "    if orient == 'v':\n",
    "        ax = sns.barplot(x=feature, y= axis_name, hue='Churn', data=g, orient=orient)\n",
    "        ax.set_yticklabels(['{:,.0%}'.format(y) for y in ax.get_yticks()])\n",
    "    else:\n",
    "        ax = sns.barplot(x= axis_name, y=feature, hue='Churn', data=g, orient=orient)\n",
    "        ax.set_xticklabels(['{:,.0%}'.format(x) for x in ax.get_xticks()])\n",
    "    ax.plot()\n",
    "barplot_percentages(\"SeniorCitizen\")\n"
   ]
  },
  {
   "cell_type": "code",
   "execution_count": 20,
   "metadata": {},
   "outputs": [
    {
     "data": {
      "image/png": "[encoded data removed]",
      "text/plain": [
       "<Figure size 556x504 with 4 Axes>"
      ]
     },
     "metadata": {
      "needs_background": "light"
     },
     "output_type": "display_data"
    }
   ],
   "source": [
    "g = sns.FacetGrid(df, row='SeniorCitizen', col='gender', hue='Churn', height=3.5)\n",
    "g.map(plt.scatter, 'tenure', 'MonthlyCharges', alpha=0.6)\n",
    "g.add_legend();"
   ]
  },
  {
   "cell_type": "markdown",
   "metadata": {},
   "source": [
    "* Gender bukan merupakan indikasi dari churn.\n",
    "* SeniorCitizens hanya 16% dari pelanggan, tetapi mereka memiliki tingkat churn yang jauh lebih tinggi: 42% dibandingkan 23% untuk pelanggan non-senior.\n",
    "* Tidak ada hubungan khusus antara nilai kategorikal ini dan fitur numerik utama."
   ]
  },
  {
   "cell_type": "markdown",
   "metadata": {},
   "source": [
    "### <span>1.2 Partner and dependents</span>"
   ]
  },
  {
   "cell_type": "code",
   "execution_count": 21,
   "metadata": {},
   "outputs": [
    {
     "data": {
      "image/png": "[encoded data removed]",
      "text/plain": [
       "<Figure size 864x288 with 2 Axes>"
      ]
     },
     "metadata": {
      "needs_background": "light"
     },
     "output_type": "display_data"
    }
   ],
   "source": [
    "fig,axis = plt.subplots(1,2,figsize=(12,4))\n",
    "axis[0].set_title('Has partner')\n",
    "axis[1].set_title('Has dependents')\n",
    "axis_y = 'Percentage of customers'\n",
    "\n",
    "#plot Partner column\n",
    "gp_partner = df.groupby('Partner')['Churn'].value_counts()/len(df)\n",
    "gp_partner = gp_partner.to_frame().rename({\"Churn\":axis_y}, axis=1).reset_index()\n",
    "ax = sns.barplot(x='Partner', y=axis_y, hue='Churn', data=gp_partner, ax=axis[0])\n",
    "\n",
    "\n",
    "#plot Dependents column\n",
    "gp_dependent = df.groupby('Dependents')['Churn'].value_counts()/len(df)\n",
    "gp_dependent = gp_dependent.to_frame().rename({\"Churn\":axis_y}, axis=1).reset_index()\n",
    "ax = sns.barplot(x='Dependents', y=axis_y, hue='Churn', data=gp_dependent, ax=axis[1])"
   ]
  },
  {
   "cell_type": "markdown",
   "metadata": {},
   "source": [
    "* Pelanggan yang tidak memiliki mitra lebih cenderung churn\n",
    "* Pelanggan tanpa tanggungan juga lebih cenderung churn"
   ]
  },
  {
   "cell_type": "markdown",
   "metadata": {},
   "source": [
    "### <span>1.3 Phone and Internet Service</span>"
   ]
  },
  {
   "cell_type": "markdown",
   "metadata": {},
   "source": [
    "Hanya ada dua layanan utama: telepon dan internet tetapi yang pertama memiliki banyak tambahan seperti pencadangan dan keamanan online."
   ]
  },
  {
   "cell_type": "markdown",
   "metadata": {},
   "source": [
    "#### Phone services"
   ]
  },
  {
   "cell_type": "code",
   "execution_count": 22,
   "metadata": {
    "scrolled": false
   },
   "outputs": [
    {
     "data": {
      "image/png": "[encoded data removed]",
      "text/plain": [
       "<Figure size 648x324 with 1 Axes>"
      ]
     },
     "metadata": {
      "needs_background": "light"
     },
     "output_type": "display_data"
    }
   ],
   "source": [
    "plt.figure(figsize=(9, 4.5))\n",
    "barplot_percentages(\"MultipleLines\", orient='h')"
   ]
  },
  {
   "cell_type": "markdown",
   "metadata": {},
   "source": [
    "#### Internet Service"
   ]
  },
  {
   "cell_type": "code",
   "execution_count": 23,
   "metadata": {},
   "outputs": [
    {
     "data": {
      "image/png": "[encoded data removed]",
      "text/plain": [
       "<Figure size 648x324 with 1 Axes>"
      ]
     },
     "metadata": {
      "needs_background": "light"
     },
     "output_type": "display_data"
    }
   ],
   "source": [
    "plt.figure(figsize=(9, 4.5))\n",
    "barplot_percentages(\"InternetService\", orient='h')"
   ]
  },
  {
   "cell_type": "markdown",
   "metadata": {},
   "source": [
    "### <span>1.4 Contract and Payment</span>"
   ]
  },
  {
   "cell_type": "code",
   "execution_count": 24,
   "metadata": {},
   "outputs": [
    {
     "data": {
      "image/png": "[encoded data removed]",
      "text/plain": [
       "<Figure size 648x324 with 1 Axes>"
      ]
     },
     "metadata": {
      "needs_background": "light"
     },
     "output_type": "display_data"
    }
   ],
   "source": [
    "plt.figure(figsize=(9, 4.5))\n",
    "barplot_percentages(\"PaymentMethod\", orient='h')"
   ]
  },
  {
   "cell_type": "markdown",
   "metadata": {},
   "source": [
    "Beberapa pengamatan:\n",
    "\n",
    "* Pelanggan dengan tagihan tanpa kertas lebih mungkin melakukan churn\n",
    "\n",
    "* Metode pembayaran yang disukai adalah cek elektronik dengan sekitar 35% pelanggan. Metode ini juga memiliki tingkat churn yang sangat tinggi\n",
    "\n",
    "* Kontrak jangka pendek memiliki tingkat churn yang lebih tinggi"
   ]
  },
  {
   "cell_type": "markdown",
   "metadata": {},
   "source": [
    " ### vi. Data Preprocessing"
   ]
  },
  {
   "cell_type": "code",
   "execution_count": 25,
   "metadata": {},
   "outputs": [
    {
     "data": {
      "text/html": [
       "<div>\n",
       "<style scoped>\n",
       "    .dataframe tbody tr th:only-of-type {\n",
       "        vertical-align: middle;\n",
       "    }\n",
       "\n",
       "    .dataframe tbody tr th {\n",
       "        vertical-align: top;\n",
       "    }\n",
       "\n",
       "    .dataframe thead th {\n",
       "        text-align: right;\n",
       "    }\n",
       "</style>\n",
       "<table border=\"1\" class=\"dataframe\">\n",
       "  <thead>\n",
       "    <tr style=\"text-align: right;\">\n",
       "      <th></th>\n",
       "      <th>gender</th>\n",
       "      <th>SeniorCitizen</th>\n",
       "      <th>Partner</th>\n",
       "      <th>Dependents</th>\n",
       "      <th>tenure</th>\n",
       "      <th>PhoneService</th>\n",
       "      <th>MultipleLines</th>\n",
       "      <th>InternetService</th>\n",
       "      <th>OnlineSecurity</th>\n",
       "      <th>OnlineBackup</th>\n",
       "      <th>DeviceProtection</th>\n",
       "      <th>TechSupport</th>\n",
       "      <th>StreamingTV</th>\n",
       "      <th>StreamingMovies</th>\n",
       "      <th>Contract</th>\n",
       "      <th>PaperlessBilling</th>\n",
       "      <th>PaymentMethod</th>\n",
       "      <th>MonthlyCharges</th>\n",
       "      <th>TotalCharges</th>\n",
       "      <th>Churn</th>\n",
       "    </tr>\n",
       "  </thead>\n",
       "  <tbody>\n",
       "    <tr>\n",
       "      <th>0</th>\n",
       "      <td>0</td>\n",
       "      <td>0</td>\n",
       "      <td>1</td>\n",
       "      <td>0</td>\n",
       "      <td>1</td>\n",
       "      <td>0</td>\n",
       "      <td>1</td>\n",
       "      <td>0</td>\n",
       "      <td>0</td>\n",
       "      <td>2</td>\n",
       "      <td>0</td>\n",
       "      <td>0</td>\n",
       "      <td>0</td>\n",
       "      <td>0</td>\n",
       "      <td>0</td>\n",
       "      <td>1</td>\n",
       "      <td>2</td>\n",
       "      <td>29.85</td>\n",
       "      <td>29.85</td>\n",
       "      <td>0</td>\n",
       "    </tr>\n",
       "    <tr>\n",
       "      <th>1</th>\n",
       "      <td>1</td>\n",
       "      <td>0</td>\n",
       "      <td>0</td>\n",
       "      <td>0</td>\n",
       "      <td>34</td>\n",
       "      <td>1</td>\n",
       "      <td>0</td>\n",
       "      <td>0</td>\n",
       "      <td>2</td>\n",
       "      <td>0</td>\n",
       "      <td>2</td>\n",
       "      <td>0</td>\n",
       "      <td>0</td>\n",
       "      <td>0</td>\n",
       "      <td>1</td>\n",
       "      <td>0</td>\n",
       "      <td>3</td>\n",
       "      <td>56.95</td>\n",
       "      <td>1889.50</td>\n",
       "      <td>0</td>\n",
       "    </tr>\n",
       "    <tr>\n",
       "      <th>2</th>\n",
       "      <td>1</td>\n",
       "      <td>0</td>\n",
       "      <td>0</td>\n",
       "      <td>0</td>\n",
       "      <td>2</td>\n",
       "      <td>1</td>\n",
       "      <td>0</td>\n",
       "      <td>0</td>\n",
       "      <td>2</td>\n",
       "      <td>2</td>\n",
       "      <td>0</td>\n",
       "      <td>0</td>\n",
       "      <td>0</td>\n",
       "      <td>0</td>\n",
       "      <td>0</td>\n",
       "      <td>1</td>\n",
       "      <td>3</td>\n",
       "      <td>53.85</td>\n",
       "      <td>108.15</td>\n",
       "      <td>1</td>\n",
       "    </tr>\n",
       "    <tr>\n",
       "      <th>3</th>\n",
       "      <td>1</td>\n",
       "      <td>0</td>\n",
       "      <td>0</td>\n",
       "      <td>0</td>\n",
       "      <td>45</td>\n",
       "      <td>0</td>\n",
       "      <td>1</td>\n",
       "      <td>0</td>\n",
       "      <td>2</td>\n",
       "      <td>0</td>\n",
       "      <td>2</td>\n",
       "      <td>2</td>\n",
       "      <td>0</td>\n",
       "      <td>0</td>\n",
       "      <td>1</td>\n",
       "      <td>0</td>\n",
       "      <td>0</td>\n",
       "      <td>42.30</td>\n",
       "      <td>1840.75</td>\n",
       "      <td>0</td>\n",
       "    </tr>\n",
       "    <tr>\n",
       "      <th>4</th>\n",
       "      <td>0</td>\n",
       "      <td>0</td>\n",
       "      <td>0</td>\n",
       "      <td>0</td>\n",
       "      <td>2</td>\n",
       "      <td>1</td>\n",
       "      <td>0</td>\n",
       "      <td>1</td>\n",
       "      <td>0</td>\n",
       "      <td>0</td>\n",
       "      <td>0</td>\n",
       "      <td>0</td>\n",
       "      <td>0</td>\n",
       "      <td>0</td>\n",
       "      <td>0</td>\n",
       "      <td>1</td>\n",
       "      <td>2</td>\n",
       "      <td>70.70</td>\n",
       "      <td>151.65</td>\n",
       "      <td>1</td>\n",
       "    </tr>\n",
       "  </tbody>\n",
       "</table>\n",
       "</div>"
      ],
      "text/plain": [
       "   gender  SeniorCitizen  Partner  Dependents  tenure  PhoneService  \\\n",
       "0       0              0        1           0       1             0   \n",
       "1       1              0        0           0      34             1   \n",
       "2       1              0        0           0       2             1   \n",
       "3       1              0        0           0      45             0   \n",
       "4       0              0        0           0       2             1   \n",
       "\n",
       "   MultipleLines  InternetService  OnlineSecurity  OnlineBackup  \\\n",
       "0              1                0               0             2   \n",
       "1              0                0               2             0   \n",
       "2              0                0               2             2   \n",
       "3              1                0               2             0   \n",
       "4              0                1               0             0   \n",
       "\n",
       "   DeviceProtection  TechSupport  StreamingTV  StreamingMovies  Contract  \\\n",
       "0                 0            0            0                0         0   \n",
       "1                 2            0            0                0         1   \n",
       "2                 0            0            0                0         0   \n",
       "3                 2            2            0                0         1   \n",
       "4                 0            0            0                0         0   \n",
       "\n",
       "   PaperlessBilling  PaymentMethod  MonthlyCharges  TotalCharges  Churn  \n",
       "0                 1              2           29.85         29.85      0  \n",
       "1                 0              3           56.95       1889.50      0  \n",
       "2                 1              3           53.85        108.15      1  \n",
       "3                 0              0           42.30       1840.75      0  \n",
       "4                 1              2           70.70        151.65      1  "
      ]
     },
     "execution_count": 25,
     "metadata": {},
     "output_type": "execute_result"
    }
   ],
   "source": [
    "# converting the non-numeric data into numeric data.\n",
    "\n",
    "encoded = df.apply(lambda x: LabelEncoder().fit_transform(x) if x.dtype == 'object' else x)\n",
    "encoded.head()"
   ]
  },
  {
   "cell_type": "code",
   "execution_count": 26,
   "metadata": {},
   "outputs": [],
   "source": [
    "from sklearn.model_selection import train_test_split"
   ]
  },
  {
   "cell_type": "code",
   "execution_count": 27,
   "metadata": {},
   "outputs": [],
   "source": [
    "X = encoded.drop('Churn', axis=1)\n",
    "y = encoded['Churn']\n",
    "X_train, X_test, y_train, y_test = train_test_split(X, y, test_size=.3, stratify=y,random_state=2021)\n",
    "X_train, X_val, y_train, y_val = train_test_split(X_train, y_train, test_size=.2,random_state=2021)"
   ]
  },
  {
   "cell_type": "code",
   "execution_count": 28,
   "metadata": {},
   "outputs": [],
   "source": [
    "oversample = SMOTE()\n",
    "X_train, y_train = oversample.fit_resample(X_train, y_train)"
   ]
  },
  {
   "cell_type": "code",
   "execution_count": 29,
   "metadata": {},
   "outputs": [],
   "source": [
    "input_pipeline = Pipeline(steps=[\n",
    "    ['scaler', MinMaxScaler()],\n",
    "], memory=\"cache_folder\")"
   ]
  },
  {
   "cell_type": "code",
   "execution_count": 30,
   "metadata": {},
   "outputs": [],
   "source": [
    "input_pipeline.fit(X_train)\n",
    "\n",
    "X_train = input_pipeline.transform(X_train)\n",
    "X_val = input_pipeline.transform(X_val)\n",
    "X_test = input_pipeline.transform(X_test)"
   ]
  },
  {
   "cell_type": "code",
   "execution_count": 31,
   "metadata": {},
   "outputs": [],
   "source": [
    "datasets_train=tf.data.Dataset.from_tensor_slices((X_train,y_train))\n",
    "datasets_val=tf.data.Dataset.from_tensor_slices((X_val,y_val))"
   ]
  },
  {
   "cell_type": "code",
   "execution_count": 32,
   "metadata": {},
   "outputs": [],
   "source": [
    "datasets_train=datasets_train.shuffle(50).batch(64)\n",
    "datasets_val=datasets_val.shuffle(50).batch(64)"
   ]
  },
  {
   "cell_type": "code",
   "execution_count": 33,
   "metadata": {},
   "outputs": [
    {
     "name": "stdout",
     "output_type": "stream",
     "text": [
      "(5834, 19)\n",
      "(5834,)\n",
      "0    2917\n",
      "1    2917\n",
      "Name: Churn, dtype: int64\n"
     ]
    }
   ],
   "source": [
    "print(X_train.shape)\n",
    "print(y_train.shape)\n",
    "print(y_train.value_counts())"
   ]
  },
  {
   "cell_type": "markdown",
   "metadata": {},
   "source": [
    "### vii. Pendefinisian Model , viii Pelatihan Model, xi Evaluasi Model"
   ]
  },
  {
   "cell_type": "markdown",
   "metadata": {},
   "source": [
    "## ANN Sequential"
   ]
  },
  {
   "cell_type": "code",
   "execution_count": 34,
   "metadata": {},
   "outputs": [],
   "source": [
    "keras.backend.clear_session()\n",
    "np.random.seed(2021)\n",
    "tf.random.set_seed(2021)"
   ]
  },
  {
   "cell_type": "code",
   "execution_count": 35,
   "metadata": {},
   "outputs": [],
   "source": [
    "# Initialising the ANN\n",
    "model = Sequential()\n",
    "\n",
    "# Adding the input layer and the first hidden layer\n",
    "model.add(Dense(17, input_shape=(19,),kernel_initializer='uniform', activation = 'relu'))\n",
    "model.add(Dropout(0.3))\n",
    "\n",
    "# Adding the second hidden layer\n",
    "model.add(Dense(12, kernel_initializer='uniform', activation='relu'))\n",
    "model.add(Dropout(0.3))\n",
    "\n",
    "# Adding the thirth hidden layer\n",
    "model.add(Dense(9, kernel_initializer='uniform', activation='relu'))\n",
    "model.add(Dropout(0.3))\n",
    "\n",
    "# Adding the output layer\n",
    "model.add(Dense(1,kernel_initializer=\"uniform\",activation=\"sigmoid\"))\n",
    "\n",
    "# Compiling the ANN\n",
    "model.compile(optimizer=keras.optimizers.Adam(learning_rate=0.0001), loss='mean_squared_error', metrics=['accuracy'])\n"
   ]
  },
  {
   "cell_type": "code",
   "execution_count": 36,
   "metadata": {},
   "outputs": [
    {
     "name": "stdout",
     "output_type": "stream",
     "text": [
      "Model: \"sequential\"\n",
      "_________________________________________________________________\n",
      " Layer (type)                Output Shape              Param #   \n",
      "=================================================================\n",
      " dense (Dense)               (None, 17)                340       \n",
      "                                                                 \n",
      " dropout (Dropout)           (None, 17)                0         \n",
      "                                                                 \n",
      " dense_1 (Dense)             (None, 12)                216       \n",
      "                                                                 \n",
      " dropout_1 (Dropout)         (None, 12)                0         \n",
      "                                                                 \n",
      " dense_2 (Dense)             (None, 9)                 117       \n",
      "                                                                 \n",
      " dropout_2 (Dropout)         (None, 9)                 0         \n",
      "                                                                 \n",
      " dense_3 (Dense)             (None, 1)                 10        \n",
      "                                                                 \n",
      "=================================================================\n",
      "Total params: 683\n",
      "Trainable params: 683\n",
      "Non-trainable params: 0\n",
      "_________________________________________________________________\n"
     ]
    }
   ],
   "source": [
    "model.summary()"
   ]
  },
  {
   "cell_type": "code",
   "execution_count": 37,
   "metadata": {},
   "outputs": [
    {
     "name": "stdout",
     "output_type": "stream",
     "text": [
      "Epoch 1/100\n",
      "92/92 [==============================] - 1s 2ms/step - loss: 0.2502 - accuracy: 0.4986 - val_loss: 0.2496 - val_accuracy: 0.7076\n",
      "Epoch 2/100\n",
      "92/92 [==============================] - 0s 1ms/step - loss: 0.2501 - accuracy: 0.5000 - val_loss: 0.2496 - val_accuracy: 0.7076\n",
      "Epoch 3/100\n",
      "92/92 [==============================] - 0s 1ms/step - loss: 0.2501 - accuracy: 0.5000 - val_loss: 0.2496 - val_accuracy: 0.7076\n",
      "Epoch 4/100\n",
      "92/92 [==============================] - 0s 1ms/step - loss: 0.2501 - accuracy: 0.5000 - val_loss: 0.2496 - val_accuracy: 0.7076\n",
      "Epoch 5/100\n",
      "92/92 [==============================] - 0s 1ms/step - loss: 0.2500 - accuracy: 0.5000 - val_loss: 0.2495 - val_accuracy: 0.7076\n",
      "Epoch 6/100\n",
      "92/92 [==============================] - 0s 1ms/step - loss: 0.2499 - accuracy: 0.5000 - val_loss: 0.2491 - val_accuracy: 0.7076\n",
      "Epoch 7/100\n",
      "92/92 [==============================] - 0s 1ms/step - loss: 0.2496 - accuracy: 0.5000 - val_loss: 0.2482 - val_accuracy: 0.7076\n",
      "Epoch 8/100\n",
      "92/92 [==============================] - 0s 1ms/step - loss: 0.2489 - accuracy: 0.5117 - val_loss: 0.2466 - val_accuracy: 0.7127\n",
      "Epoch 9/100\n",
      "92/92 [==============================] - 0s 1ms/step - loss: 0.2476 - accuracy: 0.5559 - val_loss: 0.2437 - val_accuracy: 0.7513\n",
      "Epoch 10/100\n",
      "92/92 [==============================] - 0s 1ms/step - loss: 0.2451 - accuracy: 0.5912 - val_loss: 0.2382 - val_accuracy: 0.7503\n",
      "Epoch 11/100\n",
      "92/92 [==============================] - 0s 1ms/step - loss: 0.2415 - accuracy: 0.6282 - val_loss: 0.2308 - val_accuracy: 0.7503\n",
      "Epoch 12/100\n",
      "92/92 [==============================] - 0s 1ms/step - loss: 0.2368 - accuracy: 0.6436 - val_loss: 0.2226 - val_accuracy: 0.7503\n",
      "Epoch 13/100\n",
      "92/92 [==============================] - 0s 1ms/step - loss: 0.2305 - accuracy: 0.6802 - val_loss: 0.2137 - val_accuracy: 0.7584\n",
      "Epoch 14/100\n",
      "92/92 [==============================] - 0s 1ms/step - loss: 0.2250 - accuracy: 0.6971 - val_loss: 0.2057 - val_accuracy: 0.7553\n",
      "Epoch 15/100\n",
      "92/92 [==============================] - 0s 1ms/step - loss: 0.2188 - accuracy: 0.7192 - val_loss: 0.1983 - val_accuracy: 0.7584\n",
      "Epoch 16/100\n",
      "92/92 [==============================] - 0s 1ms/step - loss: 0.2139 - accuracy: 0.7300 - val_loss: 0.1923 - val_accuracy: 0.7655\n",
      "Epoch 17/100\n",
      "92/92 [==============================] - 0s 2ms/step - loss: 0.2093 - accuracy: 0.7463 - val_loss: 0.1876 - val_accuracy: 0.7655\n",
      "Epoch 18/100\n",
      "92/92 [==============================] - 0s 1ms/step - loss: 0.2055 - accuracy: 0.7492 - val_loss: 0.1834 - val_accuracy: 0.7594\n",
      "Epoch 19/100\n",
      "92/92 [==============================] - 0s 1ms/step - loss: 0.2010 - accuracy: 0.7605 - val_loss: 0.1804 - val_accuracy: 0.7614\n",
      "Epoch 20/100\n",
      "92/92 [==============================] - 0s 1ms/step - loss: 0.1981 - accuracy: 0.7623 - val_loss: 0.1780 - val_accuracy: 0.7604\n",
      "Epoch 21/100\n",
      "92/92 [==============================] - 0s 1ms/step - loss: 0.1954 - accuracy: 0.7674 - val_loss: 0.1760 - val_accuracy: 0.7533\n",
      "Epoch 22/100\n",
      "92/92 [==============================] - 0s 1ms/step - loss: 0.1918 - accuracy: 0.7665 - val_loss: 0.1750 - val_accuracy: 0.7472\n",
      "Epoch 23/100\n",
      "92/92 [==============================] - 0s 1ms/step - loss: 0.1899 - accuracy: 0.7729 - val_loss: 0.1732 - val_accuracy: 0.7411\n",
      "Epoch 24/100\n",
      "92/92 [==============================] - 0s 1ms/step - loss: 0.1860 - accuracy: 0.7772 - val_loss: 0.1717 - val_accuracy: 0.7431\n",
      "Epoch 25/100\n",
      "92/92 [==============================] - 0s 1ms/step - loss: 0.1831 - accuracy: 0.7787 - val_loss: 0.1713 - val_accuracy: 0.7391\n",
      "Epoch 26/100\n",
      "92/92 [==============================] - 0s 1ms/step - loss: 0.1828 - accuracy: 0.7782 - val_loss: 0.1705 - val_accuracy: 0.7371\n",
      "Epoch 27/100\n",
      "92/92 [==============================] - 0s 1ms/step - loss: 0.1803 - accuracy: 0.7772 - val_loss: 0.1692 - val_accuracy: 0.7371\n",
      "Epoch 28/100\n",
      "92/92 [==============================] - 0s 1ms/step - loss: 0.1776 - accuracy: 0.7775 - val_loss: 0.1696 - val_accuracy: 0.7360\n",
      "Epoch 29/100\n",
      "92/92 [==============================] - 0s 1ms/step - loss: 0.1767 - accuracy: 0.7734 - val_loss: 0.1693 - val_accuracy: 0.7310\n",
      "Epoch 30/100\n",
      "92/92 [==============================] - 0s 1ms/step - loss: 0.1744 - accuracy: 0.7765 - val_loss: 0.1688 - val_accuracy: 0.7299\n",
      "Epoch 31/100\n",
      "92/92 [==============================] - 0s 1ms/step - loss: 0.1730 - accuracy: 0.7809 - val_loss: 0.1693 - val_accuracy: 0.7320\n",
      "Epoch 32/100\n",
      "92/92 [==============================] - 0s 1ms/step - loss: 0.1723 - accuracy: 0.7811 - val_loss: 0.1684 - val_accuracy: 0.7330\n",
      "Epoch 33/100\n",
      "92/92 [==============================] - 0s 1ms/step - loss: 0.1713 - accuracy: 0.7803 - val_loss: 0.1681 - val_accuracy: 0.7310\n",
      "Epoch 34/100\n",
      "92/92 [==============================] - 0s 1ms/step - loss: 0.1717 - accuracy: 0.7784 - val_loss: 0.1685 - val_accuracy: 0.7320\n",
      "Epoch 35/100\n",
      "92/92 [==============================] - 0s 1ms/step - loss: 0.1701 - accuracy: 0.7796 - val_loss: 0.1688 - val_accuracy: 0.7310\n",
      "Epoch 36/100\n",
      "92/92 [==============================] - 0s 1ms/step - loss: 0.1692 - accuracy: 0.7801 - val_loss: 0.1684 - val_accuracy: 0.7320\n",
      "Epoch 37/100\n",
      "92/92 [==============================] - 0s 1ms/step - loss: 0.1662 - accuracy: 0.7837 - val_loss: 0.1686 - val_accuracy: 0.7320\n",
      "Epoch 38/100\n",
      "92/92 [==============================] - 0s 1ms/step - loss: 0.1686 - accuracy: 0.7791 - val_loss: 0.1688 - val_accuracy: 0.7330\n",
      "Epoch 39/100\n",
      "92/92 [==============================] - 0s 1ms/step - loss: 0.1691 - accuracy: 0.7775 - val_loss: 0.1690 - val_accuracy: 0.7299\n",
      "Epoch 40/100\n",
      "92/92 [==============================] - 0s 1ms/step - loss: 0.1658 - accuracy: 0.7818 - val_loss: 0.1690 - val_accuracy: 0.7289\n",
      "Epoch 41/100\n",
      "92/92 [==============================] - 0s 1ms/step - loss: 0.1662 - accuracy: 0.7789 - val_loss: 0.1692 - val_accuracy: 0.7279\n",
      "Epoch 42/100\n",
      "92/92 [==============================] - 0s 1ms/step - loss: 0.1634 - accuracy: 0.7852 - val_loss: 0.1695 - val_accuracy: 0.7259\n",
      "Epoch 43/100\n",
      "92/92 [==============================] - 0s 1ms/step - loss: 0.1649 - accuracy: 0.7806 - val_loss: 0.1692 - val_accuracy: 0.7299\n",
      "Epoch 44/100\n",
      "92/92 [==============================] - 0s 1ms/step - loss: 0.1643 - accuracy: 0.7866 - val_loss: 0.1691 - val_accuracy: 0.7350\n",
      "Epoch 45/100\n",
      "92/92 [==============================] - 0s 1ms/step - loss: 0.1629 - accuracy: 0.7871 - val_loss: 0.1692 - val_accuracy: 0.7340\n",
      "Epoch 46/100\n",
      "92/92 [==============================] - 0s 1ms/step - loss: 0.1631 - accuracy: 0.7864 - val_loss: 0.1695 - val_accuracy: 0.7299\n",
      "Epoch 47/100\n",
      "92/92 [==============================] - 0s 1ms/step - loss: 0.1622 - accuracy: 0.7847 - val_loss: 0.1702 - val_accuracy: 0.7310\n",
      "Epoch 48/100\n",
      "92/92 [==============================] - 0s 1ms/step - loss: 0.1636 - accuracy: 0.7818 - val_loss: 0.1702 - val_accuracy: 0.7299\n",
      "Epoch 49/100\n",
      "92/92 [==============================] - 0s 1ms/step - loss: 0.1626 - accuracy: 0.7835 - val_loss: 0.1709 - val_accuracy: 0.7259\n",
      "Epoch 50/100\n",
      "92/92 [==============================] - 0s 1ms/step - loss: 0.1624 - accuracy: 0.7869 - val_loss: 0.1714 - val_accuracy: 0.7259\n",
      "Epoch 51/100\n",
      "92/92 [==============================] - 0s 1ms/step - loss: 0.1615 - accuracy: 0.7852 - val_loss: 0.1716 - val_accuracy: 0.7239\n",
      "Epoch 52/100\n",
      "92/92 [==============================] - 0s 1ms/step - loss: 0.1609 - accuracy: 0.7887 - val_loss: 0.1714 - val_accuracy: 0.7269\n",
      "Epoch 53/100\n",
      "92/92 [==============================] - 0s 1ms/step - loss: 0.1589 - accuracy: 0.7881 - val_loss: 0.1712 - val_accuracy: 0.7299\n",
      "Epoch 54/100\n",
      "92/92 [==============================] - 0s 1ms/step - loss: 0.1610 - accuracy: 0.7859 - val_loss: 0.1712 - val_accuracy: 0.7310\n",
      "Epoch 55/100\n",
      "92/92 [==============================] - 0s 1ms/step - loss: 0.1595 - accuracy: 0.7916 - val_loss: 0.1717 - val_accuracy: 0.7269\n",
      "Epoch 56/100\n",
      "92/92 [==============================] - 0s 1ms/step - loss: 0.1589 - accuracy: 0.7861 - val_loss: 0.1716 - val_accuracy: 0.7299\n",
      "Epoch 57/100\n",
      "92/92 [==============================] - 0s 1ms/step - loss: 0.1580 - accuracy: 0.7880 - val_loss: 0.1718 - val_accuracy: 0.7299\n",
      "Epoch 58/100\n",
      "92/92 [==============================] - 0s 1ms/step - loss: 0.1594 - accuracy: 0.7892 - val_loss: 0.1719 - val_accuracy: 0.7299\n"
     ]
    },
    {
     "name": "stdout",
     "output_type": "stream",
     "text": [
      "Epoch 59/100\n",
      "92/92 [==============================] - 0s 1ms/step - loss: 0.1609 - accuracy: 0.7857 - val_loss: 0.1719 - val_accuracy: 0.7310\n",
      "Epoch 60/100\n",
      "92/92 [==============================] - 0s 1ms/step - loss: 0.1598 - accuracy: 0.7878 - val_loss: 0.1722 - val_accuracy: 0.7299\n",
      "Epoch 61/100\n",
      "92/92 [==============================] - 0s 2ms/step - loss: 0.1583 - accuracy: 0.7876 - val_loss: 0.1730 - val_accuracy: 0.7259\n",
      "Epoch 62/100\n",
      "92/92 [==============================] - 0s 2ms/step - loss: 0.1583 - accuracy: 0.7881 - val_loss: 0.1728 - val_accuracy: 0.7279\n",
      "Epoch 63/100\n",
      "92/92 [==============================] - 0s 2ms/step - loss: 0.1577 - accuracy: 0.7900 - val_loss: 0.1726 - val_accuracy: 0.7310\n",
      "Epoch 64/100\n",
      "92/92 [==============================] - 0s 1ms/step - loss: 0.1578 - accuracy: 0.7885 - val_loss: 0.1722 - val_accuracy: 0.7330\n",
      "Epoch 65/100\n",
      "92/92 [==============================] - 0s 2ms/step - loss: 0.1575 - accuracy: 0.7893 - val_loss: 0.1730 - val_accuracy: 0.7299\n",
      "Epoch 66/100\n",
      "92/92 [==============================] - 0s 1ms/step - loss: 0.1582 - accuracy: 0.7971 - val_loss: 0.1726 - val_accuracy: 0.7310\n",
      "Epoch 67/100\n",
      "92/92 [==============================] - 0s 1ms/step - loss: 0.1577 - accuracy: 0.7895 - val_loss: 0.1725 - val_accuracy: 0.7310\n",
      "Epoch 68/100\n",
      "92/92 [==============================] - 0s 1ms/step - loss: 0.1582 - accuracy: 0.7904 - val_loss: 0.1723 - val_accuracy: 0.7330\n",
      "Epoch 69/100\n",
      "92/92 [==============================] - 0s 1ms/step - loss: 0.1569 - accuracy: 0.7917 - val_loss: 0.1728 - val_accuracy: 0.7299\n",
      "Epoch 70/100\n",
      "92/92 [==============================] - 0s 1ms/step - loss: 0.1560 - accuracy: 0.7895 - val_loss: 0.1726 - val_accuracy: 0.7310\n",
      "Epoch 71/100\n",
      "92/92 [==============================] - 0s 2ms/step - loss: 0.1574 - accuracy: 0.7921 - val_loss: 0.1727 - val_accuracy: 0.7299\n",
      "Epoch 72/100\n",
      "92/92 [==============================] - 0s 1ms/step - loss: 0.1563 - accuracy: 0.7940 - val_loss: 0.1732 - val_accuracy: 0.7299\n",
      "Epoch 73/100\n",
      "92/92 [==============================] - 0s 1ms/step - loss: 0.1532 - accuracy: 0.7911 - val_loss: 0.1735 - val_accuracy: 0.7299\n",
      "Epoch 74/100\n",
      "92/92 [==============================] - 0s 1ms/step - loss: 0.1557 - accuracy: 0.7905 - val_loss: 0.1736 - val_accuracy: 0.7299\n",
      "Epoch 75/100\n",
      "92/92 [==============================] - 0s 1ms/step - loss: 0.1551 - accuracy: 0.7976 - val_loss: 0.1737 - val_accuracy: 0.7299\n",
      "Epoch 76/100\n",
      "92/92 [==============================] - 0s 1ms/step - loss: 0.1551 - accuracy: 0.7971 - val_loss: 0.1737 - val_accuracy: 0.7299\n",
      "Epoch 77/100\n",
      "92/92 [==============================] - 0s 1ms/step - loss: 0.1551 - accuracy: 0.7957 - val_loss: 0.1737 - val_accuracy: 0.7279\n",
      "Epoch 78/100\n",
      "92/92 [==============================] - 0s 1ms/step - loss: 0.1563 - accuracy: 0.7909 - val_loss: 0.1734 - val_accuracy: 0.7289\n",
      "Epoch 79/100\n",
      "92/92 [==============================] - 0s 1ms/step - loss: 0.1566 - accuracy: 0.7940 - val_loss: 0.1737 - val_accuracy: 0.7279\n",
      "Epoch 80/100\n",
      "92/92 [==============================] - 0s 1ms/step - loss: 0.1573 - accuracy: 0.7923 - val_loss: 0.1739 - val_accuracy: 0.7289\n",
      "Epoch 81/100\n",
      "92/92 [==============================] - 0s 1ms/step - loss: 0.1565 - accuracy: 0.7941 - val_loss: 0.1740 - val_accuracy: 0.7289\n",
      "Epoch 82/100\n",
      "92/92 [==============================] - 0s 1ms/step - loss: 0.1541 - accuracy: 0.7983 - val_loss: 0.1737 - val_accuracy: 0.7310\n",
      "Epoch 83/100\n",
      "92/92 [==============================] - 0s 1ms/step - loss: 0.1550 - accuracy: 0.7953 - val_loss: 0.1737 - val_accuracy: 0.7310\n",
      "Epoch 84/100\n",
      "92/92 [==============================] - 0s 1ms/step - loss: 0.1551 - accuracy: 0.7897 - val_loss: 0.1743 - val_accuracy: 0.7289\n",
      "Epoch 85/100\n",
      "92/92 [==============================] - 0s 1ms/step - loss: 0.1552 - accuracy: 0.7952 - val_loss: 0.1741 - val_accuracy: 0.7299\n",
      "Epoch 86/100\n",
      "92/92 [==============================] - 0s 1ms/step - loss: 0.1535 - accuracy: 0.7984 - val_loss: 0.1738 - val_accuracy: 0.7310\n",
      "Epoch 87/100\n",
      "92/92 [==============================] - 0s 1ms/step - loss: 0.1559 - accuracy: 0.7979 - val_loss: 0.1741 - val_accuracy: 0.7299\n",
      "Epoch 88/100\n",
      "92/92 [==============================] - 0s 1ms/step - loss: 0.1548 - accuracy: 0.7924 - val_loss: 0.1741 - val_accuracy: 0.7310\n",
      "Epoch 89/100\n",
      "92/92 [==============================] - 0s 1ms/step - loss: 0.1532 - accuracy: 0.7960 - val_loss: 0.1741 - val_accuracy: 0.7310\n",
      "Epoch 90/100\n",
      "92/92 [==============================] - 0s 1ms/step - loss: 0.1559 - accuracy: 0.7950 - val_loss: 0.1740 - val_accuracy: 0.7310\n",
      "Epoch 91/100\n",
      "92/92 [==============================] - 0s 1ms/step - loss: 0.1549 - accuracy: 0.7965 - val_loss: 0.1737 - val_accuracy: 0.7371\n",
      "Epoch 92/100\n",
      "92/92 [==============================] - 0s 1ms/step - loss: 0.1553 - accuracy: 0.7924 - val_loss: 0.1740 - val_accuracy: 0.7320\n",
      "Epoch 93/100\n",
      "92/92 [==============================] - 0s 1ms/step - loss: 0.1555 - accuracy: 0.7907 - val_loss: 0.1741 - val_accuracy: 0.7320\n",
      "Epoch 94/100\n",
      "92/92 [==============================] - 0s 1ms/step - loss: 0.1537 - accuracy: 0.7974 - val_loss: 0.1741 - val_accuracy: 0.7350\n",
      "Epoch 95/100\n",
      "92/92 [==============================] - 0s 1ms/step - loss: 0.1555 - accuracy: 0.7935 - val_loss: 0.1743 - val_accuracy: 0.7350\n",
      "Epoch 96/100\n",
      "92/92 [==============================] - 0s 1ms/step - loss: 0.1522 - accuracy: 0.7981 - val_loss: 0.1741 - val_accuracy: 0.7360\n",
      "Epoch 97/100\n",
      "92/92 [==============================] - 0s 1ms/step - loss: 0.1521 - accuracy: 0.7972 - val_loss: 0.1743 - val_accuracy: 0.7360\n",
      "Epoch 98/100\n",
      "92/92 [==============================] - 0s 1ms/step - loss: 0.1539 - accuracy: 0.7974 - val_loss: 0.1743 - val_accuracy: 0.7360\n",
      "Epoch 99/100\n",
      "92/92 [==============================] - 0s 1ms/step - loss: 0.1533 - accuracy: 0.7938 - val_loss: 0.1748 - val_accuracy: 0.7371\n",
      "Epoch 100/100\n",
      "92/92 [==============================] - 0s 1ms/step - loss: 0.1524 - accuracy: 0.7962 - val_loss: 0.1749 - val_accuracy: 0.7371\n"
     ]
    }
   ],
   "source": [
    "history = model.fit(datasets_train,epochs=100,batch_size=10,\n",
    "                    validation_data=(datasets_val))"
   ]
  },
  {
   "cell_type": "code",
   "execution_count": 38,
   "metadata": {},
   "outputs": [
    {
     "data": {
      "image/png": "[encoded data removed]",
      "text/plain": [
       "<Figure size 576x360 with 1 Axes>"
      ]
     },
     "metadata": {
      "needs_background": "light"
     },
     "output_type": "display_data"
    }
   ],
   "source": [
    "pd.DataFrame(history.history).plot(figsize=(8, 5))\n",
    "plt.grid(True)\n",
    "plt.gca().set_ylim(0, 1)\n",
    "#save_fig(\"keras_learning_curves_plot\")\n",
    "plt.show()"
   ]
  },
  {
   "cell_type": "code",
   "execution_count": 39,
   "metadata": {},
   "outputs": [
    {
     "name": "stdout",
     "output_type": "stream",
     "text": [
      "66/66 [==============================] - 0s 1ms/step - loss: 0.1750 - accuracy: 0.7379\n"
     ]
    },
    {
     "data": {
      "text/plain": [
       "[0.17499686777591705, 0.7379146814346313]"
      ]
     },
     "execution_count": 39,
     "metadata": {},
     "output_type": "execute_result"
    }
   ],
   "source": [
    "model.evaluate(X_test,y_test)"
   ]
  },
  {
   "cell_type": "code",
   "execution_count": 40,
   "metadata": {},
   "outputs": [
    {
     "name": "stdout",
     "output_type": "stream",
     "text": [
      "Predict result: \n",
      " [[0.17797825]\n",
      " [0.09280944]\n",
      " [0.56145614]\n",
      " [0.70266193]\n",
      " [0.6223232 ]]\n",
      "\n",
      " y_test: \n",
      " 5560    0\n",
      "403     0\n",
      "3677    0\n",
      "3598    0\n",
      "1317    0\n",
      "Name: Churn, dtype: int32\n"
     ]
    }
   ],
   "source": [
    "y_pred = model.predict(X_test)\n",
    "print('Predict result: \\n', y_pred[:5])\n",
    "print('\\n y_test: \\n', y_test[:5])"
   ]
  },
  {
   "cell_type": "code",
   "execution_count": 41,
   "metadata": {},
   "outputs": [
    {
     "name": "stdout",
     "output_type": "stream",
     "text": [
      "[0, 0, 1, 1, 1]\n"
     ]
    }
   ],
   "source": [
    "predictions = []\n",
    "for element in y_pred:\n",
    "    if element > 0.5:\n",
    "        predictions.append(1)\n",
    "    else:\n",
    "        predictions.append(0)\n",
    "\n",
    "print(predictions[:5])"
   ]
  },
  {
   "cell_type": "code",
   "execution_count": 42,
   "metadata": {},
   "outputs": [
    {
     "name": "stdout",
     "output_type": "stream",
     "text": [
      "ACCURACY SCORE:\n",
      "0.7379\n",
      "Recall Score:\n",
      "0.7308377896613191\n",
      "CLASSIFICATION REPORT:\n",
      "              precision    recall  f1-score   support\n",
      "\n",
      "           0       0.88      0.74      0.81      1549\n",
      "           1       0.50      0.73      0.60       561\n",
      "\n",
      "    accuracy                           0.74      2110\n",
      "   macro avg       0.69      0.74      0.70      2110\n",
      "weighted avg       0.78      0.74      0.75      2110\n",
      "\n"
     ]
    }
   ],
   "source": [
    "print(f\"ACCURACY SCORE:\\n{accuracy_score(y_test, predictions):.4f}\")\n",
    "print(f\"Recall Score:\\n{recall_score(y_test, predictions)}\")\n",
    "print(f\"CLASSIFICATION REPORT:\\n{classification_report(y_test, predictions)}\")"
   ]
  },
  {
   "cell_type": "markdown",
   "metadata": {},
   "source": [
    "## Functional API"
   ]
  },
  {
   "cell_type": "code",
   "execution_count": 43,
   "metadata": {},
   "outputs": [],
   "source": [
    "input_ = keras.layers.Input(shape=X_train.shape[1:])\n",
    "hidden1 = keras.layers.Dense(30, activation=\"relu\")(input_)\n",
    "hidden2 = keras.layers.Dense(20, activation=\"relu\")(hidden1)\n",
    "concat = keras.layers.concatenate([input_, hidden2])\n",
    "output = keras.layers.Dense(1, activation=\"sigmoid\")(concat)\n",
    "model2 = keras.models.Model(inputs=[input_], outputs=[output])\n",
    "model2.compile(loss=\"mean_squared_error\", optimizer=keras.optimizers.Adam(learning_rate=0.0001), metrics=['accuracy'])"
   ]
  },
  {
   "cell_type": "code",
   "execution_count": 44,
   "metadata": {},
   "outputs": [
    {
     "name": "stdout",
     "output_type": "stream",
     "text": [
      "Model: \"model\"\n",
      "__________________________________________________________________________________________________\n",
      " Layer (type)                   Output Shape         Param #     Connected to                     \n",
      "==================================================================================================\n",
      " input_1 (InputLayer)           [(None, 19)]         0           []                               \n",
      "                                                                                                  \n",
      " dense_4 (Dense)                (None, 30)           600         ['input_1[0][0]']                \n",
      "                                                                                                  \n",
      " dense_5 (Dense)                (None, 20)           620         ['dense_4[0][0]']                \n",
      "                                                                                                  \n",
      " concatenate (Concatenate)      (None, 39)           0           ['input_1[0][0]',                \n",
      "                                                                  'dense_5[0][0]']                \n",
      "                                                                                                  \n",
      " dense_6 (Dense)                (None, 1)            40          ['concatenate[0][0]']            \n",
      "                                                                                                  \n",
      "==================================================================================================\n",
      "Total params: 1,260\n",
      "Trainable params: 1,260\n",
      "Non-trainable params: 0\n",
      "__________________________________________________________________________________________________\n"
     ]
    }
   ],
   "source": [
    "model2.summary()"
   ]
  },
  {
   "cell_type": "code",
   "execution_count": 45,
   "metadata": {
    "scrolled": true
   },
   "outputs": [
    {
     "name": "stdout",
     "output_type": "stream",
     "text": [
      "Epoch 1/100\n",
      "92/92 [==============================] - 0s 2ms/step - loss: 0.2535 - accuracy: 0.5110 - val_loss: 0.2212 - val_accuracy: 0.6538\n",
      "Epoch 2/100\n",
      "92/92 [==============================] - 0s 1ms/step - loss: 0.2415 - accuracy: 0.5602 - val_loss: 0.2181 - val_accuracy: 0.6599\n",
      "Epoch 3/100\n",
      "92/92 [==============================] - 0s 1ms/step - loss: 0.2326 - accuracy: 0.6090 - val_loss: 0.2152 - val_accuracy: 0.6782\n",
      "Epoch 4/100\n",
      "92/92 [==============================] - 0s 1ms/step - loss: 0.2244 - accuracy: 0.6493 - val_loss: 0.2124 - val_accuracy: 0.6853\n",
      "Epoch 5/100\n",
      "92/92 [==============================] - 0s 1ms/step - loss: 0.2168 - accuracy: 0.6882 - val_loss: 0.2094 - val_accuracy: 0.6863\n",
      "Epoch 6/100\n",
      "92/92 [==============================] - 0s 1ms/step - loss: 0.2096 - accuracy: 0.7101 - val_loss: 0.2062 - val_accuracy: 0.6985\n",
      "Epoch 7/100\n",
      "92/92 [==============================] - 0s 1ms/step - loss: 0.2029 - accuracy: 0.7242 - val_loss: 0.2028 - val_accuracy: 0.7015\n",
      "Epoch 8/100\n",
      "92/92 [==============================] - 0s 1ms/step - loss: 0.1965 - accuracy: 0.7355 - val_loss: 0.1995 - val_accuracy: 0.7036\n",
      "Epoch 9/100\n",
      "92/92 [==============================] - 0s 1ms/step - loss: 0.1905 - accuracy: 0.7444 - val_loss: 0.1964 - val_accuracy: 0.7096\n",
      "Epoch 10/100\n",
      "92/92 [==============================] - 0s 1ms/step - loss: 0.1851 - accuracy: 0.7518 - val_loss: 0.1937 - val_accuracy: 0.7137\n",
      "Epoch 11/100\n",
      "92/92 [==============================] - 0s 1ms/step - loss: 0.1804 - accuracy: 0.7595 - val_loss: 0.1915 - val_accuracy: 0.7157\n",
      "Epoch 12/100\n",
      "92/92 [==============================] - 0s 1ms/step - loss: 0.1762 - accuracy: 0.7653 - val_loss: 0.1896 - val_accuracy: 0.7147\n",
      "Epoch 13/100\n",
      "92/92 [==============================] - 0s 1ms/step - loss: 0.1725 - accuracy: 0.7703 - val_loss: 0.1879 - val_accuracy: 0.7168\n",
      "Epoch 14/100\n",
      "92/92 [==============================] - 0s 1ms/step - loss: 0.1693 - accuracy: 0.7736 - val_loss: 0.1867 - val_accuracy: 0.7157\n",
      "Epoch 15/100\n",
      "92/92 [==============================] - 0s 1ms/step - loss: 0.1664 - accuracy: 0.7761 - val_loss: 0.1855 - val_accuracy: 0.7178\n",
      "Epoch 16/100\n",
      "92/92 [==============================] - 0s 1ms/step - loss: 0.1639 - accuracy: 0.7794 - val_loss: 0.1845 - val_accuracy: 0.7208\n",
      "Epoch 17/100\n",
      "92/92 [==============================] - 0s 1ms/step - loss: 0.1618 - accuracy: 0.7821 - val_loss: 0.1838 - val_accuracy: 0.7218\n",
      "Epoch 18/100\n",
      "92/92 [==============================] - 0s 1ms/step - loss: 0.1599 - accuracy: 0.7839 - val_loss: 0.1833 - val_accuracy: 0.7188\n",
      "Epoch 19/100\n",
      "92/92 [==============================] - 0s 1ms/step - loss: 0.1583 - accuracy: 0.7845 - val_loss: 0.1826 - val_accuracy: 0.7198\n",
      "Epoch 20/100\n",
      "92/92 [==============================] - 0s 1ms/step - loss: 0.1567 - accuracy: 0.7869 - val_loss: 0.1821 - val_accuracy: 0.7269\n",
      "Epoch 21/100\n",
      "92/92 [==============================] - 0s 1ms/step - loss: 0.1554 - accuracy: 0.7881 - val_loss: 0.1818 - val_accuracy: 0.7279\n",
      "Epoch 22/100\n",
      "92/92 [==============================] - 0s 1ms/step - loss: 0.1543 - accuracy: 0.7900 - val_loss: 0.1817 - val_accuracy: 0.7279\n",
      "Epoch 23/100\n",
      "92/92 [==============================] - 0s 1ms/step - loss: 0.1533 - accuracy: 0.7902 - val_loss: 0.1815 - val_accuracy: 0.7269\n",
      "Epoch 24/100\n",
      "92/92 [==============================] - 0s 1ms/step - loss: 0.1524 - accuracy: 0.7911 - val_loss: 0.1813 - val_accuracy: 0.7259\n",
      "Epoch 25/100\n",
      "92/92 [==============================] - 0s 1ms/step - loss: 0.1516 - accuracy: 0.7926 - val_loss: 0.1811 - val_accuracy: 0.7249\n",
      "Epoch 26/100\n",
      "92/92 [==============================] - 0s 1ms/step - loss: 0.1509 - accuracy: 0.7917 - val_loss: 0.1810 - val_accuracy: 0.7269\n",
      "Epoch 27/100\n",
      "92/92 [==============================] - 0s 1ms/step - loss: 0.1502 - accuracy: 0.7912 - val_loss: 0.1809 - val_accuracy: 0.7269\n",
      "Epoch 28/100\n",
      "92/92 [==============================] - 0s 1ms/step - loss: 0.1497 - accuracy: 0.7919 - val_loss: 0.1809 - val_accuracy: 0.7259\n",
      "Epoch 29/100\n",
      "92/92 [==============================] - 0s 1ms/step - loss: 0.1492 - accuracy: 0.7916 - val_loss: 0.1807 - val_accuracy: 0.7249\n",
      "Epoch 30/100\n",
      "92/92 [==============================] - 0s 1ms/step - loss: 0.1486 - accuracy: 0.7924 - val_loss: 0.1806 - val_accuracy: 0.7259\n",
      "Epoch 31/100\n",
      "92/92 [==============================] - 0s 1ms/step - loss: 0.1482 - accuracy: 0.7914 - val_loss: 0.1806 - val_accuracy: 0.7259\n",
      "Epoch 32/100\n",
      "92/92 [==============================] - 0s 1ms/step - loss: 0.1478 - accuracy: 0.7923 - val_loss: 0.1807 - val_accuracy: 0.7269\n",
      "Epoch 33/100\n",
      "92/92 [==============================] - 0s 1ms/step - loss: 0.1475 - accuracy: 0.7928 - val_loss: 0.1807 - val_accuracy: 0.7279\n",
      "Epoch 34/100\n",
      "92/92 [==============================] - 0s 1ms/step - loss: 0.1471 - accuracy: 0.7935 - val_loss: 0.1805 - val_accuracy: 0.7279\n",
      "Epoch 35/100\n",
      "92/92 [==============================] - 0s 1ms/step - loss: 0.1468 - accuracy: 0.7941 - val_loss: 0.1805 - val_accuracy: 0.7269\n",
      "Epoch 36/100\n",
      "92/92 [==============================] - 0s 1ms/step - loss: 0.1464 - accuracy: 0.7947 - val_loss: 0.1805 - val_accuracy: 0.7279\n",
      "Epoch 37/100\n",
      "92/92 [==============================] - 0s 1ms/step - loss: 0.1462 - accuracy: 0.7947 - val_loss: 0.1805 - val_accuracy: 0.7269\n",
      "Epoch 38/100\n",
      "92/92 [==============================] - 0s 1ms/step - loss: 0.1459 - accuracy: 0.7948 - val_loss: 0.1806 - val_accuracy: 0.7279\n",
      "Epoch 39/100\n",
      "92/92 [==============================] - 0s 1ms/step - loss: 0.1457 - accuracy: 0.7953 - val_loss: 0.1806 - val_accuracy: 0.7269\n",
      "Epoch 40/100\n",
      "92/92 [==============================] - 0s 1ms/step - loss: 0.1454 - accuracy: 0.7957 - val_loss: 0.1805 - val_accuracy: 0.7299\n",
      "Epoch 41/100\n",
      "92/92 [==============================] - 0s 1ms/step - loss: 0.1452 - accuracy: 0.7957 - val_loss: 0.1805 - val_accuracy: 0.7299\n",
      "Epoch 42/100\n",
      "92/92 [==============================] - 0s 1ms/step - loss: 0.1449 - accuracy: 0.7959 - val_loss: 0.1804 - val_accuracy: 0.7299\n",
      "Epoch 43/100\n",
      "92/92 [==============================] - 0s 1ms/step - loss: 0.1448 - accuracy: 0.7960 - val_loss: 0.1805 - val_accuracy: 0.7289\n",
      "Epoch 44/100\n",
      "92/92 [==============================] - 0s 1ms/step - loss: 0.1446 - accuracy: 0.7967 - val_loss: 0.1805 - val_accuracy: 0.7279\n",
      "Epoch 45/100\n",
      "92/92 [==============================] - 0s 1ms/step - loss: 0.1444 - accuracy: 0.7965 - val_loss: 0.1806 - val_accuracy: 0.7299\n",
      "Epoch 46/100\n",
      "92/92 [==============================] - 0s 1ms/step - loss: 0.1442 - accuracy: 0.7964 - val_loss: 0.1805 - val_accuracy: 0.7299\n",
      "Epoch 47/100\n",
      "92/92 [==============================] - 0s 1ms/step - loss: 0.1440 - accuracy: 0.7967 - val_loss: 0.1805 - val_accuracy: 0.7299\n",
      "Epoch 48/100\n",
      "92/92 [==============================] - 0s 1ms/step - loss: 0.1438 - accuracy: 0.7969 - val_loss: 0.1803 - val_accuracy: 0.7299\n",
      "Epoch 49/100\n",
      "92/92 [==============================] - 0s 1ms/step - loss: 0.1436 - accuracy: 0.7976 - val_loss: 0.1804 - val_accuracy: 0.7310\n",
      "Epoch 50/100\n",
      "92/92 [==============================] - 0s 1ms/step - loss: 0.1435 - accuracy: 0.7967 - val_loss: 0.1804 - val_accuracy: 0.7310\n",
      "Epoch 51/100\n",
      "92/92 [==============================] - 0s 1ms/step - loss: 0.1433 - accuracy: 0.7969 - val_loss: 0.1805 - val_accuracy: 0.7310\n",
      "Epoch 52/100\n",
      "92/92 [==============================] - 0s 1ms/step - loss: 0.1432 - accuracy: 0.7977 - val_loss: 0.1804 - val_accuracy: 0.7320\n",
      "Epoch 53/100\n",
      "92/92 [==============================] - 0s 1ms/step - loss: 0.1430 - accuracy: 0.7972 - val_loss: 0.1805 - val_accuracy: 0.7320\n",
      "Epoch 54/100\n",
      "92/92 [==============================] - 0s 1ms/step - loss: 0.1429 - accuracy: 0.7976 - val_loss: 0.1805 - val_accuracy: 0.7330\n",
      "Epoch 55/100\n",
      "92/92 [==============================] - 0s 1ms/step - loss: 0.1428 - accuracy: 0.7979 - val_loss: 0.1804 - val_accuracy: 0.7330\n",
      "Epoch 56/100\n",
      "92/92 [==============================] - 0s 1ms/step - loss: 0.1426 - accuracy: 0.7981 - val_loss: 0.1803 - val_accuracy: 0.7340\n",
      "Epoch 57/100\n",
      "92/92 [==============================] - 0s 1ms/step - loss: 0.1424 - accuracy: 0.7984 - val_loss: 0.1802 - val_accuracy: 0.7340\n",
      "Epoch 58/100\n",
      "92/92 [==============================] - 0s 1ms/step - loss: 0.1423 - accuracy: 0.7989 - val_loss: 0.1801 - val_accuracy: 0.7330\n"
     ]
    },
    {
     "name": "stdout",
     "output_type": "stream",
     "text": [
      "Epoch 59/100\n",
      "92/92 [==============================] - 0s 1ms/step - loss: 0.1422 - accuracy: 0.7988 - val_loss: 0.1801 - val_accuracy: 0.7330\n",
      "Epoch 60/100\n",
      "92/92 [==============================] - 0s 1ms/step - loss: 0.1421 - accuracy: 0.7996 - val_loss: 0.1800 - val_accuracy: 0.7330\n",
      "Epoch 61/100\n",
      "92/92 [==============================] - 0s 1ms/step - loss: 0.1419 - accuracy: 0.8000 - val_loss: 0.1800 - val_accuracy: 0.7330\n",
      "Epoch 62/100\n",
      "92/92 [==============================] - 0s 1ms/step - loss: 0.1418 - accuracy: 0.8003 - val_loss: 0.1800 - val_accuracy: 0.7330\n",
      "Epoch 63/100\n",
      "92/92 [==============================] - 0s 1ms/step - loss: 0.1417 - accuracy: 0.8001 - val_loss: 0.1800 - val_accuracy: 0.7330\n",
      "Epoch 64/100\n",
      "92/92 [==============================] - 0s 1ms/step - loss: 0.1416 - accuracy: 0.8005 - val_loss: 0.1800 - val_accuracy: 0.7340\n",
      "Epoch 65/100\n",
      "92/92 [==============================] - 0s 1ms/step - loss: 0.1415 - accuracy: 0.8000 - val_loss: 0.1799 - val_accuracy: 0.7340\n",
      "Epoch 66/100\n",
      "92/92 [==============================] - 0s 1ms/step - loss: 0.1413 - accuracy: 0.8003 - val_loss: 0.1798 - val_accuracy: 0.7340\n",
      "Epoch 67/100\n",
      "92/92 [==============================] - 0s 1ms/step - loss: 0.1412 - accuracy: 0.8003 - val_loss: 0.1797 - val_accuracy: 0.7340\n",
      "Epoch 68/100\n",
      "92/92 [==============================] - 0s 1ms/step - loss: 0.1411 - accuracy: 0.8005 - val_loss: 0.1798 - val_accuracy: 0.7350\n",
      "Epoch 69/100\n",
      "92/92 [==============================] - 0s 1ms/step - loss: 0.1410 - accuracy: 0.7998 - val_loss: 0.1797 - val_accuracy: 0.7350\n",
      "Epoch 70/100\n",
      "92/92 [==============================] - 0s 1ms/step - loss: 0.1409 - accuracy: 0.8005 - val_loss: 0.1797 - val_accuracy: 0.7350\n",
      "Epoch 71/100\n",
      "92/92 [==============================] - 0s 1ms/step - loss: 0.1408 - accuracy: 0.8008 - val_loss: 0.1797 - val_accuracy: 0.7350\n",
      "Epoch 72/100\n",
      "92/92 [==============================] - 0s 1ms/step - loss: 0.1407 - accuracy: 0.8007 - val_loss: 0.1797 - val_accuracy: 0.7350\n",
      "Epoch 73/100\n",
      "92/92 [==============================] - 0s 1ms/step - loss: 0.1406 - accuracy: 0.8008 - val_loss: 0.1795 - val_accuracy: 0.7350\n",
      "Epoch 74/100\n",
      "92/92 [==============================] - 0s 1ms/step - loss: 0.1405 - accuracy: 0.8020 - val_loss: 0.1795 - val_accuracy: 0.7350\n",
      "Epoch 75/100\n",
      "92/92 [==============================] - 0s 1ms/step - loss: 0.1404 - accuracy: 0.8013 - val_loss: 0.1795 - val_accuracy: 0.7350\n",
      "Epoch 76/100\n",
      "92/92 [==============================] - 0s 1ms/step - loss: 0.1403 - accuracy: 0.8012 - val_loss: 0.1794 - val_accuracy: 0.7360\n",
      "Epoch 77/100\n",
      "92/92 [==============================] - 0s 1ms/step - loss: 0.1402 - accuracy: 0.8012 - val_loss: 0.1794 - val_accuracy: 0.7360\n",
      "Epoch 78/100\n",
      "92/92 [==============================] - 0s 1ms/step - loss: 0.1400 - accuracy: 0.8017 - val_loss: 0.1794 - val_accuracy: 0.7360\n",
      "Epoch 79/100\n",
      "92/92 [==============================] - 0s 1ms/step - loss: 0.1399 - accuracy: 0.8019 - val_loss: 0.1793 - val_accuracy: 0.7360\n",
      "Epoch 80/100\n",
      "92/92 [==============================] - 0s 1ms/step - loss: 0.1398 - accuracy: 0.8020 - val_loss: 0.1794 - val_accuracy: 0.7360\n",
      "Epoch 81/100\n",
      "92/92 [==============================] - 0s 1ms/step - loss: 0.1397 - accuracy: 0.8025 - val_loss: 0.1794 - val_accuracy: 0.7371\n",
      "Epoch 82/100\n",
      "92/92 [==============================] - 0s 1ms/step - loss: 0.1397 - accuracy: 0.8020 - val_loss: 0.1793 - val_accuracy: 0.7371\n",
      "Epoch 83/100\n",
      "92/92 [==============================] - 0s 1ms/step - loss: 0.1396 - accuracy: 0.8022 - val_loss: 0.1793 - val_accuracy: 0.7371\n",
      "Epoch 84/100\n",
      "92/92 [==============================] - 0s 1ms/step - loss: 0.1395 - accuracy: 0.8027 - val_loss: 0.1793 - val_accuracy: 0.7371\n",
      "Epoch 85/100\n",
      "92/92 [==============================] - 0s 1ms/step - loss: 0.1394 - accuracy: 0.8025 - val_loss: 0.1792 - val_accuracy: 0.7381\n",
      "Epoch 86/100\n",
      "92/92 [==============================] - 0s 1ms/step - loss: 0.1393 - accuracy: 0.8031 - val_loss: 0.1790 - val_accuracy: 0.7391\n",
      "Epoch 87/100\n",
      "92/92 [==============================] - 0s 1ms/step - loss: 0.1392 - accuracy: 0.8032 - val_loss: 0.1790 - val_accuracy: 0.7391\n",
      "Epoch 88/100\n",
      "92/92 [==============================] - 0s 1ms/step - loss: 0.1391 - accuracy: 0.8037 - val_loss: 0.1790 - val_accuracy: 0.7391\n",
      "Epoch 89/100\n",
      "92/92 [==============================] - 0s 1ms/step - loss: 0.1390 - accuracy: 0.8039 - val_loss: 0.1789 - val_accuracy: 0.7391\n",
      "Epoch 90/100\n",
      "92/92 [==============================] - 0s 1ms/step - loss: 0.1389 - accuracy: 0.8041 - val_loss: 0.1789 - val_accuracy: 0.7391\n",
      "Epoch 91/100\n",
      "92/92 [==============================] - 0s 1ms/step - loss: 0.1388 - accuracy: 0.8041 - val_loss: 0.1789 - val_accuracy: 0.7401\n",
      "Epoch 92/100\n",
      "92/92 [==============================] - 0s 1ms/step - loss: 0.1387 - accuracy: 0.8048 - val_loss: 0.1788 - val_accuracy: 0.7411\n",
      "Epoch 93/100\n",
      "92/92 [==============================] - 0s 1ms/step - loss: 0.1386 - accuracy: 0.8046 - val_loss: 0.1789 - val_accuracy: 0.7421\n",
      "Epoch 94/100\n",
      "92/92 [==============================] - 0s 1ms/step - loss: 0.1385 - accuracy: 0.8056 - val_loss: 0.1787 - val_accuracy: 0.7431\n",
      "Epoch 95/100\n",
      "92/92 [==============================] - 0s 1ms/step - loss: 0.1384 - accuracy: 0.8056 - val_loss: 0.1786 - val_accuracy: 0.7452\n",
      "Epoch 96/100\n",
      "92/92 [==============================] - 0s 1ms/step - loss: 0.1383 - accuracy: 0.8060 - val_loss: 0.1785 - val_accuracy: 0.7452\n",
      "Epoch 97/100\n",
      "92/92 [==============================] - 0s 1ms/step - loss: 0.1382 - accuracy: 0.8060 - val_loss: 0.1785 - val_accuracy: 0.7452\n",
      "Epoch 98/100\n",
      "92/92 [==============================] - 0s 1ms/step - loss: 0.1381 - accuracy: 0.8065 - val_loss: 0.1785 - val_accuracy: 0.7442\n",
      "Epoch 99/100\n",
      "92/92 [==============================] - 0s 1ms/step - loss: 0.1380 - accuracy: 0.8072 - val_loss: 0.1785 - val_accuracy: 0.7452\n",
      "Epoch 100/100\n",
      "92/92 [==============================] - 0s 1ms/step - loss: 0.1379 - accuracy: 0.8075 - val_loss: 0.1786 - val_accuracy: 0.7452\n"
     ]
    }
   ],
   "source": [
    "history = model2.fit(datasets_train, epochs=100, validation_data=(datasets_val))"
   ]
  },
  {
   "cell_type": "code",
   "execution_count": 46,
   "metadata": {},
   "outputs": [
    {
     "data": {
      "image/png": "[encoded data removed]",
      "text/plain": [
       "<Figure size 576x360 with 1 Axes>"
      ]
     },
     "metadata": {
      "needs_background": "light"
     },
     "output_type": "display_data"
    }
   ],
   "source": [
    "pd.DataFrame(history.history).plot(figsize=(8, 5))\n",
    "plt.grid(True)\n",
    "plt.gca().set_ylim(0, 1)\n",
    "#save_fig(\"keras_learning_curves_plot\")\n",
    "plt.show()"
   ]
  },
  {
   "cell_type": "code",
   "execution_count": 47,
   "metadata": {},
   "outputs": [
    {
     "name": "stdout",
     "output_type": "stream",
     "text": [
      "66/66 [==============================] - 0s 1ms/step - loss: 0.1776 - accuracy: 0.7393\n"
     ]
    },
    {
     "data": {
      "text/plain": [
       "[0.17761395871639252, 0.7393364906311035]"
      ]
     },
     "execution_count": 47,
     "metadata": {},
     "output_type": "execute_result"
    }
   ],
   "source": [
    "model2.evaluate(X_test,y_test)"
   ]
  },
  {
   "cell_type": "code",
   "execution_count": 48,
   "metadata": {
    "scrolled": true
   },
   "outputs": [
    {
     "name": "stdout",
     "output_type": "stream",
     "text": [
      "Predict result: \n",
      " [[0.3463018]\n",
      " [0.1192854]\n",
      " [0.5911847]\n",
      " [0.664051 ]\n",
      " [0.5556191]]\n",
      "\n",
      " y_test: \n",
      " 5560    0\n",
      "403     0\n",
      "3677    0\n",
      "3598    0\n",
      "1317    0\n",
      "Name: Churn, dtype: int32\n"
     ]
    }
   ],
   "source": [
    "y_pred = model2.predict(X_test)\n",
    "print('Predict result: \\n', y_pred[:5])\n",
    "print('\\n y_test: \\n', y_test[:5])"
   ]
  },
  {
   "cell_type": "code",
   "execution_count": 49,
   "metadata": {},
   "outputs": [
    {
     "name": "stdout",
     "output_type": "stream",
     "text": [
      "[0, 0, 1, 1, 1]\n"
     ]
    }
   ],
   "source": [
    "predictions = []\n",
    "for element in y_pred:\n",
    "    if element > 0.5:\n",
    "        predictions.append(1)\n",
    "    else:\n",
    "        predictions.append(0)\n",
    "\n",
    "print(predictions[:5])"
   ]
  },
  {
   "cell_type": "code",
   "execution_count": 50,
   "metadata": {},
   "outputs": [
    {
     "name": "stdout",
     "output_type": "stream",
     "text": [
      "ACCURACY SCORE:\n",
      "0.7393\n",
      "Recall SCORE:\n",
      "0.7112299465240641\n",
      "ROC_AUC SCORE:\n",
      "0.7303728815899856\n",
      "\n",
      "CLASSIFICATION REPORT:\n",
      "              precision    recall  f1-score   support\n",
      "\n",
      "           0       0.88      0.75      0.81      1549\n",
      "           1       0.51      0.71      0.59       561\n",
      "\n",
      "    accuracy                           0.74      2110\n",
      "   macro avg       0.69      0.73      0.70      2110\n",
      "weighted avg       0.78      0.74      0.75      2110\n",
      "\n"
     ]
    }
   ],
   "source": [
    "print(f\"ACCURACY SCORE:\\n{accuracy_score(y_test, predictions):.4f}\")\n",
    "print(f\"Recall SCORE:\\n{recall_score(y_test, predictions)}\")\n",
    "print(f\"ROC_AUC SCORE:\\n{roc_auc_score(y_test, predictions)}\\n\")\n",
    "print(f\"CLASSIFICATION REPORT:\\n{classification_report(y_test, predictions)}\")"
   ]
  },
  {
   "cell_type": "markdown",
   "metadata": {},
   "source": [
    "### Model Improvement (Hyperparameter Tuning ANN Functional API)"
   ]
  },
  {
   "cell_type": "code",
   "execution_count": 51,
   "metadata": {},
   "outputs": [],
   "source": [
    "keras.backend.clear_session()\n",
    "np.random.seed(2021)\n",
    "tf.random.set_seed(2021)"
   ]
  },
  {
   "cell_type": "code",
   "execution_count": 52,
   "metadata": {},
   "outputs": [],
   "source": [
    "def build_model_func(optimizer, kernel, units):\n",
    "    input_ = keras.layers.Input(shape=X_train.shape[1:])\n",
    "    \n",
    "    #Hidden Layer\n",
    "    hidden1 = keras.layers.Dense(units=units, activation=\"relu\", kernel_initializer=kernel)(input_)\n",
    "    hidden2 = keras.layers.Dense(units=units, activation=\"relu\", kernel_initializer=kernel)(hidden1)\n",
    "    concat = keras.layers.concatenate([input_, hidden2])\n",
    "    \n",
    "    #Output Layer\n",
    "    output = keras.layers.Dense(1, activation=\"sigmoid\")(concat)\n",
    "    \n",
    "    model_func = keras.models.Model(inputs=[input_], outputs=[output])\n",
    "    \n",
    "    model_func.compile(loss=\"mean_squared_error\", optimizer=optimizer, metrics=[\"accuracy\"])\n",
    "    return model_func"
   ]
  },
  {
   "cell_type": "code",
   "execution_count": 53,
   "metadata": {},
   "outputs": [],
   "source": [
    "model_best_func = keras.wrappers.scikit_learn.KerasClassifier(build_model_func)"
   ]
  },
  {
   "cell_type": "code",
   "execution_count": 54,
   "metadata": {},
   "outputs": [
    {
     "name": "stdout",
     "output_type": "stream",
     "text": [
      "Fitting 5 folds for each of 8 candidates, totalling 40 fits\n",
      "Epoch 1/100\n",
      "183/183 [==============================] - 1s 1ms/step - loss: 0.1755 - accuracy: 0.7264 - val_loss: 0.1849 - val_accuracy: 0.7168\n",
      "Epoch 2/100\n",
      "183/183 [==============================] - 0s 1ms/step - loss: 0.1396 - accuracy: 0.8031 - val_loss: 0.1714 - val_accuracy: 0.7452\n",
      "Epoch 3/100\n",
      "183/183 [==============================] - 0s 1ms/step - loss: 0.1360 - accuracy: 0.8056 - val_loss: 0.1809 - val_accuracy: 0.7360\n",
      "Epoch 4/100\n",
      "183/183 [==============================] - 0s 1ms/step - loss: 0.1344 - accuracy: 0.8079 - val_loss: 0.1668 - val_accuracy: 0.7665\n",
      "Epoch 5/100\n",
      "183/183 [==============================] - 0s 1ms/step - loss: 0.1329 - accuracy: 0.8111 - val_loss: 0.1737 - val_accuracy: 0.7503\n",
      "Epoch 6/100\n",
      "183/183 [==============================] - 0s 1ms/step - loss: 0.1314 - accuracy: 0.8145 - val_loss: 0.1763 - val_accuracy: 0.7431\n",
      "Epoch 7/100\n",
      "183/183 [==============================] - 0s 973us/step - loss: 0.1290 - accuracy: 0.8181 - val_loss: 0.1782 - val_accuracy: 0.7320\n",
      "Epoch 8/100\n",
      "183/183 [==============================] - 0s 956us/step - loss: 0.1288 - accuracy: 0.8181 - val_loss: 0.1701 - val_accuracy: 0.7513\n",
      "Epoch 9/100\n",
      "183/183 [==============================] - 0s 1ms/step - loss: 0.1270 - accuracy: 0.8209 - val_loss: 0.1666 - val_accuracy: 0.7614\n",
      "Epoch 10/100\n",
      "183/183 [==============================] - 0s 984us/step - loss: 0.1263 - accuracy: 0.8212 - val_loss: 0.1673 - val_accuracy: 0.7523\n",
      "Epoch 11/100\n",
      "183/183 [==============================] - 0s 1ms/step - loss: 0.1248 - accuracy: 0.8246 - val_loss: 0.1680 - val_accuracy: 0.7482\n",
      "Epoch 12/100\n",
      "183/183 [==============================] - 0s 1ms/step - loss: 0.1228 - accuracy: 0.8303 - val_loss: 0.1695 - val_accuracy: 0.7574\n",
      "Epoch 13/100\n",
      "183/183 [==============================] - 0s 1ms/step - loss: 0.1233 - accuracy: 0.8267 - val_loss: 0.1697 - val_accuracy: 0.7482\n",
      "Epoch 14/100\n",
      "183/183 [==============================] - 0s 1ms/step - loss: 0.1209 - accuracy: 0.8308 - val_loss: 0.1672 - val_accuracy: 0.7543\n",
      "Epoch 15/100\n",
      "183/183 [==============================] - 0s 1ms/step - loss: 0.1210 - accuracy: 0.8370 - val_loss: 0.1686 - val_accuracy: 0.7584\n",
      "Epoch 16/100\n",
      "183/183 [==============================] - 0s 1ms/step - loss: 0.1196 - accuracy: 0.8300 - val_loss: 0.1646 - val_accuracy: 0.7584\n",
      "Epoch 17/100\n",
      "183/183 [==============================] - 0s 1ms/step - loss: 0.1190 - accuracy: 0.8327 - val_loss: 0.1892 - val_accuracy: 0.7218\n",
      "Epoch 18/100\n",
      "183/183 [==============================] - 0s 1ms/step - loss: 0.1184 - accuracy: 0.8372 - val_loss: 0.1672 - val_accuracy: 0.7462\n",
      "Epoch 19/100\n",
      "183/183 [==============================] - 0s 978us/step - loss: 0.1168 - accuracy: 0.8361 - val_loss: 0.1682 - val_accuracy: 0.7442\n",
      "Epoch 20/100\n",
      "183/183 [==============================] - 0s 1ms/step - loss: 0.1162 - accuracy: 0.8406 - val_loss: 0.1939 - val_accuracy: 0.7218\n",
      "Epoch 21/100\n",
      "183/183 [==============================] - 0s 1ms/step - loss: 0.1154 - accuracy: 0.8418 - val_loss: 0.1723 - val_accuracy: 0.7503\n",
      "Epoch 22/100\n",
      "183/183 [==============================] - 0s 1ms/step - loss: 0.1148 - accuracy: 0.8378 - val_loss: 0.1752 - val_accuracy: 0.7472\n",
      "Epoch 23/100\n",
      "183/183 [==============================] - 0s 962us/step - loss: 0.1141 - accuracy: 0.8428 - val_loss: 0.1766 - val_accuracy: 0.7431\n",
      "Epoch 24/100\n",
      "183/183 [==============================] - 0s 967us/step - loss: 0.1127 - accuracy: 0.8432 - val_loss: 0.1705 - val_accuracy: 0.7421\n",
      "Epoch 25/100\n",
      "183/183 [==============================] - 0s 973us/step - loss: 0.1139 - accuracy: 0.8396 - val_loss: 0.1684 - val_accuracy: 0.7523\n",
      "Epoch 26/100\n",
      "183/183 [==============================] - 0s 955us/step - loss: 0.1117 - accuracy: 0.8423 - val_loss: 0.1756 - val_accuracy: 0.7401\n",
      "Wall time: 59 s\n"
     ]
    },
    {
     "data": {
      "text/plain": [
       "GridSearchCV(cv=5,\n",
       "             estimator=<keras.wrappers.scikit_learn.KerasClassifier object at 0x0000027A7D2D1790>,\n",
       "             n_jobs=-1,\n",
       "             param_grid={'kernel': ['random_uniform', 'random_normal'],\n",
       "                         'optimizer': ['adam', 'nadam'], 'units': [30, 40]},\n",
       "             verbose=2)"
      ]
     },
     "execution_count": 54,
     "metadata": {},
     "output_type": "execute_result"
    }
   ],
   "source": [
    "parameters = {\n",
    "    'optimizer':['adam','nadam'],\n",
    "    'kernel':['random_uniform', 'random_normal'],\n",
    "    'units':[30,40]\n",
    "}\n",
    "\n",
    "grid_cv = GridSearchCV(model_best_func, parameters, cv=5, verbose=2, n_jobs=-1)\n",
    "%time grid_cv.fit(X_train, y_train, epochs=100, validation_data=(X_val, y_val), callbacks=[keras.callbacks.EarlyStopping(patience=10)])"
   ]
  },
  {
   "cell_type": "code",
   "execution_count": 55,
   "metadata": {},
   "outputs": [
    {
     "name": "stdout",
     "output_type": "stream",
     "text": [
      "Grid Search Best score 0.8160955667495727\n",
      "Grid Search Best Parameters {'kernel': 'random_normal', 'optimizer': 'adam', 'units': 40}\n"
     ]
    }
   ],
   "source": [
    "print('Grid Search Best score', grid_cv.best_score_)\n",
    "print('Grid Search Best Parameters', grid_cv.best_params_)"
   ]
  },
  {
   "cell_type": "code",
   "execution_count": 56,
   "metadata": {},
   "outputs": [
    {
     "name": "stdout",
     "output_type": "stream",
     "text": [
      "31/31 [==============================] - 0s 967us/step - loss: 0.1756 - accuracy: 0.7401\n"
     ]
    },
    {
     "data": {
      "text/plain": [
       "0.7401015162467957"
      ]
     },
     "execution_count": 56,
     "metadata": {},
     "output_type": "execute_result"
    }
   ],
   "source": [
    "grid_cv.score(X_val, y_val)"
   ]
  },
  {
   "cell_type": "code",
   "execution_count": 57,
   "metadata": {},
   "outputs": [
    {
     "data": {
      "text/plain": [
       "<keras.wrappers.scikit_learn.KerasClassifier at 0x27a7d313b20>"
      ]
     },
     "execution_count": 57,
     "metadata": {},
     "output_type": "execute_result"
    }
   ],
   "source": [
    "grid_cv.best_estimator_"
   ]
  },
  {
   "cell_type": "code",
   "execution_count": 58,
   "metadata": {},
   "outputs": [
    {
     "name": "stdout",
     "output_type": "stream",
     "text": [
      "31/31 [==============================] - 0s 767us/step - loss: 0.1756 - accuracy: 0.7401\n"
     ]
    },
    {
     "data": {
      "text/plain": [
       "[0.17555074393749237, 0.7401015162467957]"
      ]
     },
     "execution_count": 58,
     "metadata": {},
     "output_type": "execute_result"
    }
   ],
   "source": [
    "# Hasil evaluasi model dari gridCV\n",
    "model_func_gridCV = grid_cv.best_estimator_.model\n",
    "\n",
    "model_func_gridCV.evaluate(X_val, y_val)"
   ]
  },
  {
   "cell_type": "code",
   "execution_count": 59,
   "metadata": {},
   "outputs": [
    {
     "name": "stdout",
     "output_type": "stream",
     "text": [
      "Predict result: \n",
      " [[0.39440575]\n",
      " [0.09059763]\n",
      " [0.35159007]\n",
      " [0.7188599 ]\n",
      " [0.36007422]]\n",
      "\n",
      " y_test: \n",
      " 5560    0\n",
      "403     0\n",
      "3677    0\n",
      "3598    0\n",
      "1317    0\n",
      "Name: Churn, dtype: int32\n",
      "\n",
      " [0, 0, 0, 1, 0]\n"
     ]
    }
   ],
   "source": [
    "pred_grid = model_func_gridCV.predict(X_test)\n",
    "print('Predict result: \\n', pred_grid[:5])\n",
    "print('\\n y_test: \\n', y_test[:5])\n",
    "\n",
    "predict_grid = []\n",
    "for element in pred_grid:\n",
    "    if element > 0.5:\n",
    "        predict_grid.append(1)\n",
    "    else:\n",
    "        predict_grid.append(0)\n",
    "\n",
    "print('\\n',predict_grid[:5])"
   ]
  },
  {
   "cell_type": "code",
   "execution_count": 60,
   "metadata": {},
   "outputs": [
    {
     "name": "stdout",
     "output_type": "stream",
     "text": [
      "ACCURACY SCORE:\n",
      "0.7450\n",
      "Recall:\n",
      "0.6327985739750446\n",
      "CLASSIFICATION REPORT:\n",
      "              precision    recall  f1-score   support\n",
      "\n",
      "           0       0.86      0.79      0.82      1549\n",
      "           1       0.52      0.63      0.57       561\n",
      "\n",
      "    accuracy                           0.75      2110\n",
      "   macro avg       0.69      0.71      0.69      2110\n",
      "weighted avg       0.77      0.75      0.75      2110\n",
      "\n"
     ]
    }
   ],
   "source": [
    "print(f\"ACCURACY SCORE:\\n{accuracy_score(y_test, predict_grid):.4f}\")\n",
    "print(f\"Recall:\\n{recall_score(y_test, predict_grid)}\")\n",
    "print(f\"CLASSIFICATION REPORT:\\n{classification_report(y_test, predict_grid)}\")"
   ]
  },
  {
   "cell_type": "markdown",
   "metadata": {},
   "source": [
    "### x. Model Inference"
   ]
  },
  {
   "cell_type": "code",
   "execution_count": 70,
   "metadata": {},
   "outputs": [],
   "source": [
    "model_func_gridCV.save(\"Model.h5\")"
   ]
  },
  {
   "cell_type": "code",
   "execution_count": 71,
   "metadata": {},
   "outputs": [
    {
     "data": {
      "text/html": [
       "<div>\n",
       "<style scoped>\n",
       "    .dataframe tbody tr th:only-of-type {\n",
       "        vertical-align: middle;\n",
       "    }\n",
       "\n",
       "    .dataframe tbody tr th {\n",
       "        vertical-align: top;\n",
       "    }\n",
       "\n",
       "    .dataframe thead th {\n",
       "        text-align: right;\n",
       "    }\n",
       "</style>\n",
       "<table border=\"1\" class=\"dataframe\">\n",
       "  <thead>\n",
       "    <tr style=\"text-align: right;\">\n",
       "      <th></th>\n",
       "      <th>gender</th>\n",
       "      <th>SeniorCitizen</th>\n",
       "      <th>Partner</th>\n",
       "      <th>Dependents</th>\n",
       "      <th>tenure</th>\n",
       "      <th>PhoneService</th>\n",
       "      <th>MultipleLines</th>\n",
       "      <th>InternetService</th>\n",
       "      <th>OnlineSecurity</th>\n",
       "      <th>OnlineBackup</th>\n",
       "      <th>DeviceProtection</th>\n",
       "      <th>TechSupport</th>\n",
       "      <th>StreamingTV</th>\n",
       "      <th>StreamingMovies</th>\n",
       "      <th>Contract</th>\n",
       "      <th>PaperlessBilling</th>\n",
       "      <th>PaymentMethod</th>\n",
       "      <th>MonthlyCharges</th>\n",
       "      <th>TotalCharges</th>\n",
       "      <th>Churn</th>\n",
       "    </tr>\n",
       "  </thead>\n",
       "  <tbody>\n",
       "    <tr>\n",
       "      <th>0</th>\n",
       "      <td>Female</td>\n",
       "      <td>No</td>\n",
       "      <td>Yes</td>\n",
       "      <td>No</td>\n",
       "      <td>1</td>\n",
       "      <td>No</td>\n",
       "      <td>No phone service</td>\n",
       "      <td>DSL</td>\n",
       "      <td>No</td>\n",
       "      <td>Yes</td>\n",
       "      <td>No</td>\n",
       "      <td>No</td>\n",
       "      <td>No</td>\n",
       "      <td>No</td>\n",
       "      <td>Month-to-month</td>\n",
       "      <td>Yes</td>\n",
       "      <td>Electronic check</td>\n",
       "      <td>29.85</td>\n",
       "      <td>29.85</td>\n",
       "      <td>No</td>\n",
       "    </tr>\n",
       "  </tbody>\n",
       "</table>\n",
       "</div>"
      ],
      "text/plain": [
       "   gender SeniorCitizen Partner Dependents  tenure PhoneService  \\\n",
       "0  Female            No     Yes         No       1           No   \n",
       "\n",
       "      MultipleLines InternetService OnlineSecurity OnlineBackup  \\\n",
       "0  No phone service             DSL             No          Yes   \n",
       "\n",
       "  DeviceProtection TechSupport StreamingTV StreamingMovies        Contract  \\\n",
       "0               No          No          No              No  Month-to-month   \n",
       "\n",
       "  PaperlessBilling     PaymentMethod  MonthlyCharges  TotalCharges Churn  \n",
       "0              Yes  Electronic check           29.85         29.85    No  "
      ]
     },
     "execution_count": 71,
     "metadata": {},
     "output_type": "execute_result"
    }
   ],
   "source": [
    "pd.set_option('display.max_columns', 500)\n",
    "df.head(1)"
   ]
  },
  {
   "cell_type": "code",
   "execution_count": 72,
   "metadata": {},
   "outputs": [
    {
     "data": {
      "text/plain": [
       "Index(['gender', 'SeniorCitizen', 'Partner', 'Dependents', 'tenure',\n",
       "       'PhoneService', 'MultipleLines', 'InternetService', 'OnlineSecurity',\n",
       "       'OnlineBackup', 'DeviceProtection', 'TechSupport', 'StreamingTV',\n",
       "       'StreamingMovies', 'Contract', 'PaperlessBilling', 'PaymentMethod',\n",
       "       'MonthlyCharges', 'TotalCharges', 'Churn'],\n",
       "      dtype='object')"
      ]
     },
     "execution_count": 72,
     "metadata": {},
     "output_type": "execute_result"
    }
   ],
   "source": [
    "df.columns"
   ]
  },
  {
   "cell_type": "code",
   "execution_count": 73,
   "metadata": {},
   "outputs": [
    {
     "data": {
      "text/html": [
       "<div>\n",
       "<style scoped>\n",
       "    .dataframe tbody tr th:only-of-type {\n",
       "        vertical-align: middle;\n",
       "    }\n",
       "\n",
       "    .dataframe tbody tr th {\n",
       "        vertical-align: top;\n",
       "    }\n",
       "\n",
       "    .dataframe thead th {\n",
       "        text-align: right;\n",
       "    }\n",
       "</style>\n",
       "<table border=\"1\" class=\"dataframe\">\n",
       "  <thead>\n",
       "    <tr style=\"text-align: right;\">\n",
       "      <th></th>\n",
       "      <th>gender</th>\n",
       "      <th>SeniorCitizen</th>\n",
       "      <th>Partner</th>\n",
       "      <th>Dependents</th>\n",
       "      <th>tenure</th>\n",
       "      <th>PhoneService</th>\n",
       "      <th>MultipleLines</th>\n",
       "      <th>InternetService</th>\n",
       "      <th>OnlineSecurity</th>\n",
       "      <th>OnlineBackup</th>\n",
       "      <th>DeviceProtection</th>\n",
       "      <th>TechSupport</th>\n",
       "      <th>StreamingTV</th>\n",
       "      <th>StreamingMovies</th>\n",
       "      <th>Contract</th>\n",
       "      <th>PaperlessBilling</th>\n",
       "      <th>PaymentMethod</th>\n",
       "      <th>MonthlyCharges</th>\n",
       "      <th>TotalCharges</th>\n",
       "    </tr>\n",
       "  </thead>\n",
       "  <tbody>\n",
       "    <tr>\n",
       "      <th>1</th>\n",
       "      <td>female</td>\n",
       "      <td>No</td>\n",
       "      <td>Yes</td>\n",
       "      <td>Yes</td>\n",
       "      <td>23</td>\n",
       "      <td>Yes</td>\n",
       "      <td>Yes</td>\n",
       "      <td>DSL</td>\n",
       "      <td>No</td>\n",
       "      <td>No</td>\n",
       "      <td>Yes</td>\n",
       "      <td>Yes</td>\n",
       "      <td>No</td>\n",
       "      <td>Yes</td>\n",
       "      <td>Month-to-month</td>\n",
       "      <td>Yes</td>\n",
       "      <td>Electronic check</td>\n",
       "      <td>32</td>\n",
       "      <td>32</td>\n",
       "    </tr>\n",
       "  </tbody>\n",
       "</table>\n",
       "</div>"
      ],
      "text/plain": [
       "   gender SeniorCitizen Partner Dependents  tenure PhoneService MultipleLines  \\\n",
       "1  female            No     Yes        Yes      23          Yes           Yes   \n",
       "\n",
       "  InternetService OnlineSecurity OnlineBackup DeviceProtection TechSupport  \\\n",
       "1             DSL             No           No              Yes         Yes   \n",
       "\n",
       "  StreamingTV StreamingMovies        Contract PaperlessBilling  \\\n",
       "1          No             Yes  Month-to-month              Yes   \n",
       "\n",
       "      PaymentMethod  MonthlyCharges  TotalCharges  \n",
       "1  Electronic check              32            32  "
      ]
     },
     "execution_count": 73,
     "metadata": {},
     "output_type": "execute_result"
    }
   ],
   "source": [
    "# Pembuatan data inference\n",
    "databaru =[{'gender':'female', \n",
    "            'SeniorCitizen':'No', \n",
    "            'Partner':'Yes', \n",
    "            'Dependents':'Yes', \n",
    "            'tenure':23,\n",
    "            'PhoneService':'Yes', \n",
    "            'MultipleLines':'Yes', \n",
    "            'InternetService':'DSL', \n",
    "            'OnlineSecurity':'No',\n",
    "            'OnlineBackup':'No', \n",
    "            'DeviceProtection':'Yes', \n",
    "            'TechSupport':'Yes',\n",
    "            'StreamingTV':'No',\n",
    "            'StreamingMovies':'Yes', \n",
    "            'Contract':'Month-to-month', \n",
    "            'PaperlessBilling':'Yes', \n",
    "            'PaymentMethod':'Electronic check',\n",
    "            'MonthlyCharges':32, \n",
    "            'TotalCharges':32}]\n",
    "\n",
    "percobaan_1 =pd.DataFrame(databaru,index=[1])\n",
    "percobaan_1\n"
   ]
  },
  {
   "cell_type": "code",
   "execution_count": 74,
   "metadata": {},
   "outputs": [
    {
     "data": {
      "text/html": [
       "<div>\n",
       "<style scoped>\n",
       "    .dataframe tbody tr th:only-of-type {\n",
       "        vertical-align: middle;\n",
       "    }\n",
       "\n",
       "    .dataframe tbody tr th {\n",
       "        vertical-align: top;\n",
       "    }\n",
       "\n",
       "    .dataframe thead th {\n",
       "        text-align: right;\n",
       "    }\n",
       "</style>\n",
       "<table border=\"1\" class=\"dataframe\">\n",
       "  <thead>\n",
       "    <tr style=\"text-align: right;\">\n",
       "      <th></th>\n",
       "      <th>gender</th>\n",
       "      <th>SeniorCitizen</th>\n",
       "      <th>Partner</th>\n",
       "      <th>Dependents</th>\n",
       "      <th>tenure</th>\n",
       "      <th>PhoneService</th>\n",
       "      <th>MultipleLines</th>\n",
       "      <th>InternetService</th>\n",
       "      <th>OnlineSecurity</th>\n",
       "      <th>OnlineBackup</th>\n",
       "      <th>DeviceProtection</th>\n",
       "      <th>TechSupport</th>\n",
       "      <th>StreamingTV</th>\n",
       "      <th>StreamingMovies</th>\n",
       "      <th>Contract</th>\n",
       "      <th>PaperlessBilling</th>\n",
       "      <th>PaymentMethod</th>\n",
       "      <th>MonthlyCharges</th>\n",
       "      <th>TotalCharges</th>\n",
       "    </tr>\n",
       "  </thead>\n",
       "  <tbody>\n",
       "    <tr>\n",
       "      <th>1</th>\n",
       "      <td>0</td>\n",
       "      <td>0</td>\n",
       "      <td>0</td>\n",
       "      <td>0</td>\n",
       "      <td>23</td>\n",
       "      <td>0</td>\n",
       "      <td>0</td>\n",
       "      <td>0</td>\n",
       "      <td>0</td>\n",
       "      <td>0</td>\n",
       "      <td>0</td>\n",
       "      <td>0</td>\n",
       "      <td>0</td>\n",
       "      <td>0</td>\n",
       "      <td>0</td>\n",
       "      <td>0</td>\n",
       "      <td>0</td>\n",
       "      <td>32</td>\n",
       "      <td>32</td>\n",
       "    </tr>\n",
       "  </tbody>\n",
       "</table>\n",
       "</div>"
      ],
      "text/plain": [
       "   gender  SeniorCitizen  Partner  Dependents  tenure  PhoneService  \\\n",
       "1       0              0        0           0      23             0   \n",
       "\n",
       "   MultipleLines  InternetService  OnlineSecurity  OnlineBackup  \\\n",
       "1              0                0               0             0   \n",
       "\n",
       "   DeviceProtection  TechSupport  StreamingTV  StreamingMovies  Contract  \\\n",
       "1                 0            0            0                0         0   \n",
       "\n",
       "   PaperlessBilling  PaymentMethod  MonthlyCharges  TotalCharges  \n",
       "1                 0              0              32            32  "
      ]
     },
     "execution_count": 74,
     "metadata": {},
     "output_type": "execute_result"
    }
   ],
   "source": [
    "encoded1 = percobaan_1.apply(lambda x: LabelEncoder().fit_transform(x) if x.dtype == 'object' else x)\n",
    "encoded1.head()"
   ]
  },
  {
   "cell_type": "code",
   "execution_count": 76,
   "metadata": {},
   "outputs": [],
   "source": [
    "model = keras.models.load_model(\"Model.h5\")"
   ]
  },
  {
   "cell_type": "code",
   "execution_count": 77,
   "metadata": {},
   "outputs": [],
   "source": [
    "pred = model.predict(encoded1)"
   ]
  },
  {
   "cell_type": "code",
   "execution_count": 78,
   "metadata": {},
   "outputs": [
    {
     "data": {
      "text/plain": [
       "array([[1.]], dtype=float32)"
      ]
     },
     "execution_count": 78,
     "metadata": {},
     "output_type": "execute_result"
    }
   ],
   "source": [
    "pred"
   ]
  },
  {
   "cell_type": "code",
   "execution_count": 79,
   "metadata": {},
   "outputs": [
    {
     "name": "stdout",
     "output_type": "stream",
     "text": [
      "Churn\n"
     ]
    }
   ],
   "source": [
    "if pred>0.5:\n",
    "    print('Churn')\n",
    "else:\n",
    "    print('Not Churn')"
   ]
  },
  {
   "cell_type": "markdown",
   "metadata": {},
   "source": [
    "### ix. Pengambilan Kesimpulan"
   ]
  },
  {
   "cell_type": "markdown",
   "metadata": {},
   "source": [
    "### Base Model Sequensial\n",
    "Secara umum model dinilai telah cukup baik membaca pergerakan data dan melakukan proses model inference, walaupun terdapat indikasi underfitting hal tersebut dapat dimaklumi dikarenakan sequential ANN memiliki keterbatasan dalam mempelajari data, namun terdapat catatan sebagai berikut apabila ingin tetap menggunakan Sequential ANN sebagai model utama\n",
    " - dengan nilai recall dan accuracy \n",
    " - ACCURACY SCORE:\n",
    "0.7379\n",
    "- Recall Score:\n",
    "0.7308377896613191\n",
    "\n",
    "> best model dapat ditingkatkan performance nya apabila :\n",
    "* dilakukan scaler dengan menggunakan robust scaler, saat ini data masih diasumsikan sebagai data distribusi normal, padahal seperti yang digambarkan pada eda dan proses label imbalance terdapat skewness ke satu arah tertentu\n",
    "\n",
    "### Functional API and GridSearch Cv\n",
    "\n",
    "Selu Activation ftw, selu activation secara sangat baik telah mempelajari pergerakan data, dengan kombinasi antara lecun_normal sebagai initializer dan asumsi bahwa data adalah distribusi normal dengan dibantu standardscaller, model berhasil membaca pola tanpa adanya indikasi overfitting\n",
    "\n",
    "\n",
    "- ACCURACY SCORE:\n",
    "0.7393\n",
    "- Recall SCORE:\n",
    "0.7112299465240641\n",
    "\n",
    "Grid CV\n",
    "- ACCURACY SCORE:\n",
    "0.7450\n",
    "Recall:\n",
    "- 0.6327985739750446\n",
    "\n",
    "\n",
    "accuracy membaik teatapi rekal menurun.\n",
    "\n",
    "\n",
    "### Data Analysist\n",
    "\n",
    "Dari sisi bisnis dapat terlihat bahwa ada segmen konsumen yang perlu dimaintain, utamanya yang berkaitan dengan konsumen yang memiliki kecenderungan highspender (dapat dilihat dari total charges) dengan metode pembayaran otomatis.\n",
    "\n",
    "perlu juga dilakukan pendekatan marketting lebih lanjut kepada konsumen yang memiliki tingkat awareness terhadap OnlineSecurity untuk dapat menggunakan layanan lainnya yang belum mereka gunakan, dikarenakan pelanggan dengan OnlineSecurity Awareness memiliki kecenderungan menjadi pelanggan setia (kemungkinan untuk churn rendah) \n"
   ]
  },
  {
   "cell_type": "code",
   "execution_count": null,
   "metadata": {},
   "outputs": [],
   "source": []
  }
 ],
 "metadata": {
  "colab": {
   "collapsed_sections": [],
   "name": "h8dsft_P0W1.ipynb",
   "provenance": []
  },
  "kernelspec": {
   "display_name": "Python 3 (ipykernel)",
   "language": "python",
   "name": "python3"
  },
  "language_info": {
   "codemirror_mode": {
    "name": "ipython",
    "version": 3
   },
   "file_extension": ".py",
   "mimetype": "text/x-python",
   "name": "python",
   "nbconvert_exporter": "python",
   "pygments_lexer": "ipython3",
   "version": "3.8.7"
  }
 },
 "nbformat": 4,
 "nbformat_minor": 1
}
